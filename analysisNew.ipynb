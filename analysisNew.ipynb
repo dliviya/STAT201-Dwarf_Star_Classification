{
 "cells": [
  {
   "cell_type": "code",
   "execution_count": 3,
   "id": "9f316b91-ae72-4268-aa35-f101035559a3",
   "metadata": {},
   "outputs": [
    {
     "name": "stderr",
     "output_type": "stream",
     "text": [
      "── \u001b[1mAttaching packages\u001b[22m ─────────────────────────────────────── tidyverse 1.3.1 ──\n",
      "\n",
      "\u001b[32m✔\u001b[39m \u001b[34mggplot2\u001b[39m 3.3.5     \u001b[32m✔\u001b[39m \u001b[34mpurrr  \u001b[39m 0.3.4\n",
      "\u001b[32m✔\u001b[39m \u001b[34mtibble \u001b[39m 3.1.6     \u001b[32m✔\u001b[39m \u001b[34mdplyr  \u001b[39m 1.0.7\n",
      "\u001b[32m✔\u001b[39m \u001b[34mtidyr  \u001b[39m 1.1.4     \u001b[32m✔\u001b[39m \u001b[34mstringr\u001b[39m 1.4.0\n",
      "\u001b[32m✔\u001b[39m \u001b[34mreadr  \u001b[39m 2.1.1     \u001b[32m✔\u001b[39m \u001b[34mforcats\u001b[39m 0.5.1\n",
      "\n",
      "── \u001b[1mConflicts\u001b[22m ────────────────────────────────────────── tidyverse_conflicts() ──\n",
      "\u001b[31m✖\u001b[39m \u001b[34mdplyr\u001b[39m::\u001b[32mfilter()\u001b[39m masks \u001b[34mstats\u001b[39m::filter()\n",
      "\u001b[31m✖\u001b[39m \u001b[34mdplyr\u001b[39m::\u001b[32mlag()\u001b[39m    masks \u001b[34mstats\u001b[39m::lag()\n",
      "\n",
      "\n",
      "Attaching package: ‘gridExtra’\n",
      "\n",
      "\n",
      "The following object is masked from ‘package:dplyr’:\n",
      "\n",
      "    combine\n",
      "\n",
      "\n"
     ]
    }
   ],
   "source": [
    "library(tidyverse)\n",
    "library(infer)\n",
    "library(gridExtra)"
   ]
  },
  {
   "cell_type": "markdown",
   "id": "01c5376b-d46f-4bea-94ff-9e214e6a7922",
   "metadata": {},
   "source": [
    "## Introduction"
   ]
  },
  {
   "cell_type": "markdown",
   "id": "d6607bed-096a-425d-8a36-2dbc092eaede",
   "metadata": {},
   "source": [
    "Stars are typically classified into four different groups – white dwarfs, main sequence, giants, and supergiants (Chiosi). The life cycle of a star depends on what type of star it is. A typical star will become a main sequence star and then end its lifecycle as a white dwarf. Main sequence stars account for around 90% of all stars in the universe (“Main Sequence Stars: Definition & Life Cycle.” ). Contrary to its name, red dwarfs are not a type of white dwarf. Rather they are a type of small main sequence star that is not very bright. Another type of dwarfs is a brown dwarf. These are not usually classified as stars because they do not burn hot enough (“Red Dwarfs: The Most Common and Longest-Lived Stars.”). White dwarfs are very small dense stars that are not very bright when compared to main sequence stars (Koester). When a massive star is formed it will become a giant star or a supergiant and then end its lifecycle as a neutron star or a blackhole. Giants and supergiants are very large stars (with supergiant being even larger) that shine very bright when compared to main sequence stars (Chiosi). \n",
    "\n",
    "In this project we want to determine if there is a difference in luminosity and temperature between red, brown, and white dwarfs. Our location parameter is the mean of luminosity and temperature and our scale parameter is the standard deviation of both luminosity and temperature.\n",
    "\n",
    "The dataset that are using has the following variables"
   ]
  },
  {
   "cell_type": "markdown",
   "id": "fba4d115-2a0d-44ba-83e6-44adaa8bc544",
   "metadata": {},
   "source": [
    "| Variable | Description |\n",
    "| :-: | :-: |\n",
    "| Absolute Temperature (K) | The temperature of the star in Kelvin |\n",
    "| Relative Luminosity (L/Lo) | The luminosity of the star when divided by the average luminosity of the sun (3.828 x 10^26 Watts) |\n",
    "| Relative Radius (R/Ro) | The radius of the star when divided by the average radius of the sun (6.9551 x 10^8 m) |\n",
    "| Absolute Magnitude (Mv) | The absolute magnitude of the star |\n",
    "| Star Color | The color of the star |\n",
    "| Spectral Class (O,B,A,F,G,K,M) | If the star is a main sequence star, the type of main sequence star it is |\n",
    "| Star Type (Red Dwarf, Brown Dwarf, White Dwarf, Main Sequence , SuperGiants, HyperGiants) | The type of star it is | "
   ]
  },
  {
   "cell_type": "code",
   "execution_count": 4,
   "id": "3dca7a97-fd02-4880-985d-65376af609fb",
   "metadata": {},
   "outputs": [
    {
     "name": "stderr",
     "output_type": "stream",
     "text": [
      "Warning message in file(file, \"rt\"):\n",
      "“cannot open file '6-class.csv': No such file or directory”\n"
     ]
    },
    {
     "ename": "ERROR",
     "evalue": "Error in file(file, \"rt\"): cannot open the connection\n",
     "output_type": "error",
     "traceback": [
      "Error in file(file, \"rt\"): cannot open the connection\nTraceback:\n",
      "1. read.csv(\"6-class.csv\")",
      "2. read.table(file = file, header = header, sep = sep, quote = quote, \n .     dec = dec, fill = fill, comment.char = comment.char, ...)",
      "3. file(file, \"rt\")"
     ]
    }
   ],
   "source": [
    "# I changed the column names in my csv file to make them more manageable\n",
    "# Temperature = T\n",
    "# Luminosity = L\n",
    "# Radius = R\n",
    "# Absolute Magnitude = A_M\n",
    "# Star Type = Type\n",
    "# Star Color = Color\n",
    "# Spectral Class = Spectral_class\n",
    "\n",
    "stars <- read.csv(\"6-class.csv\")\n",
    "\n",
    "glimpse(stars)"
   ]
  },
  {
   "cell_type": "code",
   "execution_count": 5,
   "id": "f75e14ad-7b5e-4b25-9594-409a1e0afb79",
   "metadata": {},
   "outputs": [
    {
     "ename": "ERROR",
     "evalue": "Error in UseMethod(\"mutate\"): no applicable method for 'mutate' applied to an object of class \"function\"\n",
     "output_type": "error",
     "traceback": [
      "Error in UseMethod(\"mutate\"): no applicable method for 'mutate' applied to an object of class \"function\"\nTraceback:\n",
      "1. mutate(stars, Star.type = as_factor(Star.type))"
     ]
    }
   ],
   "source": [
    "stars <- mutate(stars, Star.type = as_factor(Star.type))"
   ]
  },
  {
   "cell_type": "code",
   "execution_count": 6,
   "id": "90dd3173-b58d-4959-a3a9-b4c522d6fb63",
   "metadata": {},
   "outputs": [
    {
     "ename": "ERROR",
     "evalue": "Error in UseMethod(\"filter\"): no applicable method for 'filter' applied to an object of class \"function\"\n",
     "output_type": "error",
     "traceback": [
      "Error in UseMethod(\"filter\"): no applicable method for 'filter' applied to an object of class \"function\"\nTraceback:\n",
      "1. stars %>% filter(Star.type != 5) %>% filter(Star.type != 4) %>% \n .     filter(Star.type != 3)",
      "2. filter(., Star.type != 3)",
      "3. filter(., Star.type != 4)",
      "4. filter(., Star.type != 5)"
     ]
    }
   ],
   "source": [
    "dwarfs <- stars %>%\n",
    "filter(Star.type != 5) %>%\n",
    "filter(Star.type != 4) %>%\n",
    "filter(Star.type != 3)\n"
   ]
  },
  {
   "cell_type": "code",
   "execution_count": 7,
   "id": "2849d43d-474a-4951-b2f3-0c2db9474037",
   "metadata": {},
   "outputs": [
    {
     "ename": "ERROR",
     "evalue": "Error in ggplot(dwarfs, aes(x = Star.type, y = Luminosity.L.Lo.)): object 'dwarfs' not found\n",
     "output_type": "error",
     "traceback": [
      "Error in ggplot(dwarfs, aes(x = Star.type, y = Luminosity.L.Lo.)): object 'dwarfs' not found\nTraceback:\n",
      "1. ggplot(dwarfs, aes(x = Star.type, y = Luminosity.L.Lo.))"
     ]
    }
   ],
   "source": [
    "L_box <- ggplot(dwarfs, aes(x = Star.type, y = Luminosity.L.Lo.)) + geom_boxplot()\n",
    "T_box <- ggplot(dwarfs, aes(x = Star.type, y = Temperature..K.)) + geom_boxplot()\n",
    "grid.arrange(L_box, T_box, ncol=2)\n",
    "\n",
    "#let's add a title here\n",
    "#should we add comments to the code?"
   ]
  },
  {
   "cell_type": "code",
   "execution_count": 8,
   "id": "41b349e0-c469-463f-89a7-60b39ed72b82",
   "metadata": {},
   "outputs": [
    {
     "ename": "ERROR",
     "evalue": "Error in UseMethod(\"filter\"): no applicable method for 'filter' applied to an object of class \"function\"\n",
     "output_type": "error",
     "traceback": [
      "Error in UseMethod(\"filter\"): no applicable method for 'filter' applied to an object of class \"function\"\nTraceback:\n",
      "1. filter(stars, Star.type == 0)"
     ]
    }
   ],
   "source": [
    "type_0 <- filter(stars, Star.type == 0)\n",
    "type_1 <- filter(stars, Star.type == 1)\n",
    "type_2 <- filter(stars, Star.type == 2)"
   ]
  },
  {
   "cell_type": "markdown",
   "id": "51833966-349b-42f5-8f48-e93582e89247",
   "metadata": {},
   "source": [
    "### Brown Dwarf Distributions"
   ]
  },
  {
   "cell_type": "code",
   "execution_count": 9,
   "id": "3b42def2-253a-4995-9ba8-caf1ced74819",
   "metadata": {},
   "outputs": [
    {
     "ename": "ERROR",
     "evalue": "Error in ggplot(type_0, aes(x = Luminosity.L.Lo.)): object 'type_0' not found\n",
     "output_type": "error",
     "traceback": [
      "Error in ggplot(type_0, aes(x = Luminosity.L.Lo.)): object 'type_0' not found\nTraceback:\n",
      "1. ggplot(type_0, aes(x = Luminosity.L.Lo.))"
     ]
    }
   ],
   "source": [
    "L_0 <- ggplot(type_0, aes(x = Luminosity.L.Lo.)) + geom_histogram(bins = 20)\n",
    "T_0 <- ggplot(type_0, aes(x = Temperature..K.)) + geom_histogram(bins = 20)\n",
    "grid.arrange(L_0, T_0, ncol=2)"
   ]
  },
  {
   "cell_type": "markdown",
   "id": "57a56b4f-d53a-44a5-8c41-fbb0f9180aed",
   "metadata": {},
   "source": [
    "### Red Dwarf Distributions"
   ]
  },
  {
   "cell_type": "code",
   "execution_count": 10,
   "id": "d89fd030-da38-4106-ac52-70744a7edc3a",
   "metadata": {},
   "outputs": [
    {
     "ename": "ERROR",
     "evalue": "Error in ggplot(type_1, aes(x = Luminosity.L.Lo.)): object 'type_1' not found\n",
     "output_type": "error",
     "traceback": [
      "Error in ggplot(type_1, aes(x = Luminosity.L.Lo.)): object 'type_1' not found\nTraceback:\n",
      "1. ggplot(type_1, aes(x = Luminosity.L.Lo.))"
     ]
    }
   ],
   "source": [
    "L_1 <- ggplot(type_1, aes(x = Luminosity.L.Lo.)) + geom_histogram(bins = 20)\n",
    "T_1 <- ggplot(type_1, aes(x = Temperature..K.)) + geom_histogram(bins = 20)\n",
    "grid.arrange(L_1, T_1, ncol=2)"
   ]
  },
  {
   "cell_type": "markdown",
   "id": "0536ab33-f746-454b-a875-b18c8792a4de",
   "metadata": {},
   "source": [
    "### White Dwarf Distributions"
   ]
  },
  {
   "cell_type": "code",
   "execution_count": 11,
   "id": "5b5ff780-b200-461b-ae30-7749865be8d5",
   "metadata": {},
   "outputs": [
    {
     "ename": "ERROR",
     "evalue": "Error in ggplot(type_2, aes(x = Luminosity.L.Lo.)): object 'type_2' not found\n",
     "output_type": "error",
     "traceback": [
      "Error in ggplot(type_2, aes(x = Luminosity.L.Lo.)): object 'type_2' not found\nTraceback:\n",
      "1. ggplot(type_2, aes(x = Luminosity.L.Lo.))"
     ]
    }
   ],
   "source": [
    "L_2 <- ggplot(type_2, aes(x = Luminosity.L.Lo.)) + geom_histogram(bins = 20)\n",
    "T_2 <- ggplot(type_2, aes(x = Temperature..K.)) + geom_histogram(bins = 20)\n",
    "grid.arrange(L_2, T_2, ncol=2)"
   ]
  },
  {
   "cell_type": "code",
   "execution_count": 12,
   "id": "97ff7195-c380-4328-a0d8-60d8f4dcd4ba",
   "metadata": {},
   "outputs": [
    {
     "ename": "ERROR",
     "evalue": "Error in summarise(., mean_lum = mean(Luminosity.L.Lo.), mean_temp = mean(Temperature..K.), : object 'type_0' not found\n",
     "output_type": "error",
     "traceback": [
      "Error in summarise(., mean_lum = mean(Luminosity.L.Lo.), mean_temp = mean(Temperature..K.), : object 'type_0' not found\nTraceback:\n",
      "1. type_0 %>% summarise(mean_lum = mean(Luminosity.L.Lo.), mean_temp = mean(Temperature..K.), \n .     sd_lum = sd(Luminosity.L.Lo.), sd_temp = sd(Temperature..K.)) %>% \n .     add_column(Type = \"Brown\", .before = \"mean_lum\")",
      "2. add_column(., Type = \"Brown\", .before = \"mean_lum\")",
      "3. is.data.frame(.data)",
      "4. summarise(., mean_lum = mean(Luminosity.L.Lo.), mean_temp = mean(Temperature..K.), \n .     sd_lum = sd(Luminosity.L.Lo.), sd_temp = sd(Temperature..K.))"
     ]
    }
   ],
   "source": [
    "brown_dwarf_stats <- type_0 %>% \n",
    "    summarise(mean_lum = mean(Luminosity.L.Lo.), \n",
    "              mean_temp = mean(Temperature..K.),\n",
    "              sd_lum = sd(Luminosity.L.Lo.),\n",
    "              sd_temp = sd(Temperature..K.)) %>%\n",
    "    add_column(Type = \"Brown\", .before = \"mean_lum\")\n",
    "\n",
    "red_dwarf_stats <- type_1 %>% \n",
    "    summarise(mean_lum = mean(Luminosity.L.Lo.), \n",
    "              mean_temp = mean(Temperature..K.),\n",
    "              sd_lum = sd(Luminosity.L.Lo.),\n",
    "              sd_temp = sd(Temperature..K.)) %>%\n",
    "    add_column(Type = \"Red\", .before = \"mean_lum\")\n",
    "\n",
    "white_dwarf_stats <- type_2 %>% \n",
    "    summarise(mean_lum = mean(Luminosity.L.Lo.), \n",
    "              mean_temp = mean(Temperature..K.),\n",
    "              sd_lum = sd(Luminosity.L.Lo.),\n",
    "              sd_temp = sd(Temperature..K.)) %>%\n",
    "    add_column(Type = \"White\", .before = \"mean_lum\")\n",
    "\n",
    "parameter_estimates <- rbind(brown_dwarf_stats, red_dwarf_stats, white_dwarf_stats)\n",
    "parameter_estimates"
   ]
  },
  {
   "cell_type": "markdown",
   "id": "86341cbc-91cb-4e46-a90f-c50d9f894748",
   "metadata": {},
   "source": [
    "## Methods: Plan"
   ]
  },
  {
   "cell_type": "markdown",
   "id": "51dd33b6-1460-4168-86af-14e3e1ce2689",
   "metadata": {},
   "source": [
    "In the final report, we expect to find whether we are confident to say there is a difference in the luminosity and temperature between dwarf stars using statistical inferential techniques including hypothesis testing, ANOVA, etc. We will express our result and the uncertainty in a trustworthy way with the support of data analysis. \n",
    "We believe this finding clarifies the difference in some features (luminosity and temperature) between different types of dwarf stars, which improves people’s understanding, and further increases the accuracy and reliability of star classification.\n",
    "It leads to the questions of other differences between dwarf stars such as “is there a difference in the magnitude between dwarf stars”, and how to apply the result in the real astronomical observation.\n"
   ]
  },
  {
   "cell_type": "markdown",
   "id": "7cbc3b18-db18-4294-b74a-c1fcaf06a269",
   "metadata": {},
   "source": [
    "## Citation"
   ]
  },
  {
   "cell_type": "markdown",
   "id": "cf1f797d-36b1-4990-b098-2e67f52a114d",
   "metadata": {},
   "source": [
    "Chiosi, Cesare, Gianpaolo Bertelli, and Alessandro Bressan. \"New developments in understanding the HR diagram.\" Annual review of astronomy and astrophysics 30.1 (1992): 235-285.\n",
    "\n",
    "Koester, Detlev, and Ganesar Chanmugam. \"Physics of white dwarf stars.\" Reports on Progress in Physics 53.7 (1990): 837.\n",
    "Tillman, Nola Taylor, and Ben Biggs. “Main Sequence Stars: Definition & Life Cycle.” Space.com, Space, 26 Jan. 2022, https://www.space.com/22437-main-sequence-star.html. \n",
    "Tillman, Nola Taylor. “Red Dwarfs: The Most Common and Longest-Lived Stars.” Space.com, Space, 6 June 2019, https://www.space.com/23772-red-dwarf-stars.html. "
   ]
  }
 ],
 "metadata": {
  "interpreter": {
   "hash": "a653215ae8f90e0f1006d0e719f32beb52a8f012348c9c864421278df0c233eb"
  },
  "kernelspec": {
   "display_name": "R",
   "language": "R",
   "name": "ir"
  },
  "language_info": {
   "codemirror_mode": "r",
   "file_extension": ".r",
   "mimetype": "text/x-r-source",
   "name": "R",
   "pygments_lexer": "r",
   "version": "4.1.2"
  }
 },
 "nbformat": 4,
 "nbformat_minor": 5
}
