{
 "cells": [
  {
   "cell_type": "markdown",
   "id": "951e5e8e-24d0-4da2-afa4-e76c16296bde",
   "metadata": {},
   "source": [
    "# Statistical Inference of Luminosity and Temperature of Dwarf Stars"
   ]
  },
  {
   "cell_type": "markdown",
   "id": "7177676d-af8d-4ebb-9a04-00c27cf694cc",
   "metadata": {},
   "source": [
    "### Ahmed Rizk, Cathy Liu, Divya Bilolikar, Olivia Pang"
   ]
  },
  {
   "cell_type": "code",
   "execution_count": 5,
   "id": "ec52d456-8142-4388-b193-ff5a36e9b001",
   "metadata": {},
   "outputs": [
    {
     "name": "stderr",
     "output_type": "stream",
     "text": [
      "── \u001b[1mAttaching packages\u001b[22m ─────────────────────────────────────── tidyverse 1.3.1 ──\n",
      "\n",
      "\u001b[32m✔\u001b[39m \u001b[34mggplot2\u001b[39m 3.3.5     \u001b[32m✔\u001b[39m \u001b[34mpurrr  \u001b[39m 0.3.4\n",
      "\u001b[32m✔\u001b[39m \u001b[34mtibble \u001b[39m 3.1.6     \u001b[32m✔\u001b[39m \u001b[34mdplyr  \u001b[39m 1.0.8\n",
      "\u001b[32m✔\u001b[39m \u001b[34mtidyr  \u001b[39m 1.2.0     \u001b[32m✔\u001b[39m \u001b[34mstringr\u001b[39m 1.4.0\n",
      "\u001b[32m✔\u001b[39m \u001b[34mreadr  \u001b[39m 2.1.1     \u001b[32m✔\u001b[39m \u001b[34mforcats\u001b[39m 0.5.1\n",
      "\n",
      "── \u001b[1mConflicts\u001b[22m ────────────────────────────────────────── tidyverse_conflicts() ──\n",
      "\u001b[31m✖\u001b[39m \u001b[34mdplyr\u001b[39m::\u001b[32mfilter()\u001b[39m masks \u001b[34mstats\u001b[39m::filter()\n",
      "\u001b[31m✖\u001b[39m \u001b[34mdplyr\u001b[39m::\u001b[32mlag()\u001b[39m    masks \u001b[34mstats\u001b[39m::lag()\n",
      "\n",
      "\n",
      "Attaching package: ‘gridExtra’\n",
      "\n",
      "\n",
      "The following object is masked from ‘package:dplyr’:\n",
      "\n",
      "    combine\n",
      "\n",
      "\n",
      "\n",
      "Attaching package: ‘testthat’\n",
      "\n",
      "\n",
      "The following object is masked from ‘package:dplyr’:\n",
      "\n",
      "    matches\n",
      "\n",
      "\n",
      "The following object is masked from ‘package:purrr’:\n",
      "\n",
      "    is_null\n",
      "\n",
      "\n",
      "The following objects are masked from ‘package:readr’:\n",
      "\n",
      "    edition_get, local_edition\n",
      "\n",
      "\n",
      "The following object is masked from ‘package:tidyr’:\n",
      "\n",
      "    matches\n",
      "\n",
      "\n"
     ]
    }
   ],
   "source": [
    "library(tidyverse)\n",
    "library(infer)\n",
    "library(gridExtra)\n",
    "library(testthat)\n",
    "library(digest)\n",
    "library(broom)"
   ]
  },
  {
   "cell_type": "markdown",
   "id": "01c5376b-d46f-4bea-94ff-9e214e6a7922",
   "metadata": {},
   "source": [
    "## Introduction"
   ]
  },
  {
   "cell_type": "markdown",
   "id": "d6607bed-096a-425d-8a36-2dbc092eaede",
   "metadata": {},
   "source": [
    "Stars are typically classified into four different groups – white dwarfs, main sequence, giants, and supergiants (Chiosi, 1992). A typical star will become a main sequence star, then end its life cycle as a white dwarf. This is the most frequent lifecycle that we see (Tillman, 2022). White dwarfs are very small dense stars that are not very bright when compared to main-sequence stars (Koester, 1990). Contrary to their name, the red dwarfs are not a type of white dwarf but rather a type of small main-sequence star that is not very bright. Similarly, we have brown dwarfs, which are not usually classified as stars because they do not burn hot enough. (Tillman, 2019) When a massive star is formed, it will become a giant star or a supergiant and then end its lifecycle as a neutron star or a blackhole. Giants and supergiants are enormous stars that shine very bright when compared to main-sequence stars (Chiosi, 1992). \n",
    "\n",
    "While white, red, and brown dwarf stars share a name, they are very different and typically not classified together. This is clearly seen in an Hertzsprung-Russell diagram (a scatter plot that shows the trends in star types against luminosity, temperature, color, and magnitude) where white dwarfs have their own classification in the bottom left, and red and white dwarfs are grouped together in the main sequence group towards the bottom right. Since all three stars appear on the bottom half of the diagram we want to explore the difference in luminosity and temperature between the three.\n",
    "\n",
    "\n",
    "## Analysis Question\n",
    "In this project, we want to determine if there is a difference in luminosity and temperature between red, brown, and white dwarf stars. Our location parameter will be the mean of luminosity and temperature and our scale parameter will be the standard deviation of both luminosity and temperature. We chose these because we have a large dataset (240 observations) and thus the CLT takes effect, and we can treat the dataset as normally distributed.\n",
    "\n",
    "\n",
    "We are using the \"Star dataset to predict star types\" dataset from https://www.kaggle.com/datasets/deepu1109/star-dataset. The variables are as follows:"
   ]
  },
  {
   "cell_type": "markdown",
   "id": "fba4d115-2a0d-44ba-83e6-44adaa8bc544",
   "metadata": {},
   "source": [
    "| Variable | Description |\n",
    "| :-: | :-: |\n",
    "| Absolute Temperature (K) | The temperature of the star in Kelvin |\n",
    "| Relative Luminosity (L/Lo) | The luminosity of the star when divided by the average luminosity of the sun (3.828 x 10^26 Watts) |\n",
    "| Relative Radius (R/Ro) | The radius of the star when divided by the average radius of the sun (6.9551 x 10^8 m) |\n",
    "| Absolute Magnitude (Mv) | The absolute magnitude of the star |\n",
    "| Star Color | The color of the star |\n",
    "| Spectral Class (O,B,A,F,G,K,M) | If the star is a main sequence star, the type of main sequence star it is |\n",
    "| Star Type (Red Dwarf, Brown Dwarf, White Dwarf, Main Sequence , SuperGiants, HyperGiants) | The type of star it is | "
   ]
  },
  {
   "cell_type": "markdown",
   "id": "0f6f8038-2f2e-4a40-9047-857ab5c77445",
   "metadata": {},
   "source": [
    "## Preliminary Analysis"
   ]
  },
  {
   "cell_type": "markdown",
   "id": "6778e1fc-3806-4f47-bcc5-bf804b64e33a",
   "metadata": {},
   "source": [
    "### Reading the dataset into R"
   ]
  },
  {
   "cell_type": "code",
   "execution_count": 6,
   "id": "98a4457c-beb8-421a-b4f5-dd0ac072e63f",
   "metadata": {},
   "outputs": [
    {
     "name": "stdout",
     "output_type": "stream",
     "text": [
      "Rows: 240\n",
      "Columns: 7\n",
      "$ Temperature..K.        \u001b[3m\u001b[90m<int>\u001b[39m\u001b[23m 3068, 3042, 2600, 2800, 1939, 2840, 2637, 2600,…\n",
      "$ Luminosity.L.Lo.       \u001b[3m\u001b[90m<dbl>\u001b[39m\u001b[23m 0.002400, 0.000500, 0.000300, 0.000200, 0.00013…\n",
      "$ Radius.R.Ro.           \u001b[3m\u001b[90m<dbl>\u001b[39m\u001b[23m 0.17000, 0.15420, 0.10200, 0.16000, 0.10300, 0.…\n",
      "$ Absolute.magnitude.Mv. \u001b[3m\u001b[90m<dbl>\u001b[39m\u001b[23m 16.120, 16.600, 18.700, 16.650, 20.060, 16.980,…\n",
      "$ Star.type              \u001b[3m\u001b[90m<int>\u001b[39m\u001b[23m 0, 0, 0, 0, 0, 0, 0, 0, 0, 0, 1, 1, 1, 1, 1, 1,…\n",
      "$ Star.color             \u001b[3m\u001b[90m<chr>\u001b[39m\u001b[23m \"Red\", \"Red\", \"Red\", \"Red\", \"Red\", \"Red\", \"Red\"…\n",
      "$ Spectral.Class         \u001b[3m\u001b[90m<chr>\u001b[39m\u001b[23m \"M\", \"M\", \"M\", \"M\", \"M\", \"M\", \"M\", \"M\", \"M\", \"M…\n"
     ]
    }
   ],
   "source": [
    "stars <- read.csv(\"6-class.csv\")\n",
    "\n",
    "glimpse(stars)"
   ]
  },
  {
   "cell_type": "markdown",
   "id": "d30205b6-38ed-4bf0-b2fe-94e800a71817",
   "metadata": {},
   "source": [
    "### Cleaning and Wrangling"
   ]
  },
  {
   "cell_type": "markdown",
   "id": "56b88db5-a7a6-4428-a119-65e353b40113",
   "metadata": {},
   "source": [
    "Since the target categorical variable for our analysis is the star type, we need to change it from type 'int' to type 'factor'."
   ]
  },
  {
   "cell_type": "code",
   "execution_count": 7,
   "id": "f75e14ad-7b5e-4b25-9594-409a1e0afb79",
   "metadata": {},
   "outputs": [],
   "source": [
    "stars <- mutate(stars, Star.type = as_factor(Star.type))"
   ]
  },
  {
   "cell_type": "markdown",
   "id": "c0becb30-bada-4a34-9c2e-3e1b8fd4e485",
   "metadata": {},
   "source": [
    "Next, we filter out the Giant stars (types 3, 4 and 5) to isolate the Dwarfs."
   ]
  },
  {
   "cell_type": "code",
   "execution_count": 8,
   "id": "90dd3173-b58d-4959-a3a9-b4c522d6fb63",
   "metadata": {},
   "outputs": [],
   "source": [
    "dwarfs <- stars %>%\n",
    "filter(Star.type != 5) %>%\n",
    "filter(Star.type != 4) %>%\n",
    "filter(Star.type != 3)\n"
   ]
  },
  {
   "cell_type": "markdown",
   "id": "0a7e8d03-e2c2-4ca7-aa48-1947d25033f0",
   "metadata": {},
   "source": [
    "### Visualizations"
   ]
  },
  {
   "cell_type": "markdown",
   "id": "a5659985-38d1-459e-b840-b88ba1eaea14",
   "metadata": {},
   "source": [
    "We can create boxplots to show the variation in luminosity and temperature across star types. This will give us a rough idea of the differences between each star type, and tell us if any groups are vastly different from the rest."
   ]
  },
  {
   "cell_type": "code",
   "execution_count": 9,
   "id": "2849d43d-474a-4951-b2f3-0c2db9474037",
   "metadata": {},
   "outputs": [
    {
     "data": {
      "image/png": "[encoded data removed]",
      "text/plain": [
       "plot without title"
      ]
     },
     "metadata": {
      "image/png": {
       "height": 420,
       "width": 420
      }
     },
     "output_type": "display_data"
    }
   ],
   "source": [
    "L_box <- ggplot(dwarfs, aes(x = Star.type, y = Luminosity.L.Lo.)) + geom_boxplot() + ggtitle(\"Luminosity vs Star Type\") + xlab(\"Star Type\") + ylab(\"Luminosity (Lo)\")\n",
    "T_box <- ggplot(dwarfs, aes(x = Star.type, y = Temperature..K.)) + geom_boxplot() +  ggtitle(\"Temperature vs Star Type\") +  xlab(\"Star Type\") + ylab(\"Temperature (K)\")\n",
    "grid.arrange(L_box, T_box, ncol=2)"
   ]
  },
  {
   "cell_type": "markdown",
   "id": "103d02f5-b601-4dec-b99a-8b063bbea5b0",
   "metadata": {},
   "source": [
    "In the figure above we can see the distributions of Luminosity vs Star type and Temperature vs Star type. The means of the luminosity across star types are very similar, however, the interquartile range of star type 1 is much larger. In the Temperature vs Star type graph we can see that the range and mean of star type 0 and type 1 are very similar, however, both the mean and interquartile range of star type 2 is very large.\n"
   ]
  },
  {
   "cell_type": "markdown",
   "id": "90aac5b9-82f7-4dbd-831a-ee17cc5725e9",
   "metadata": {},
   "source": [
    "To find the within group distributions for each star type, we will separate the data into 3 different parts, each representing a star type."
   ]
  },
  {
   "cell_type": "code",
   "execution_count": 10,
   "id": "41b349e0-c469-463f-89a7-60b39ed72b82",
   "metadata": {},
   "outputs": [],
   "source": [
    "type_0 <- filter(stars, Star.type == 0)\n",
    "type_1 <- filter(stars, Star.type == 1)\n",
    "type_2 <- filter(stars, Star.type == 2)"
   ]
  },
  {
   "cell_type": "markdown",
   "id": "51833966-349b-42f5-8f48-e93582e89247",
   "metadata": {},
   "source": [
    "#### Brown Dwarf Distributions"
   ]
  },
  {
   "cell_type": "code",
   "execution_count": 11,
   "id": "3b42def2-253a-4995-9ba8-caf1ced74819",
   "metadata": {},
   "outputs": [
    {
     "data": {
      "image/png": "[encoded data removed]",
      "text/plain": [
       "plot without title"
      ]
     },
     "metadata": {
      "image/png": {
       "height": 420,
       "width": 420
      }
     },
     "output_type": "display_data"
    }
   ],
   "source": [
    "# Find the distribution of luminosity and temperature values for the brown dwarf star\n",
    "\n",
    "L_0 <- ggplot(type_0, aes(x = Luminosity.L.Lo.)) + geom_histogram(bins = 20)\n",
    "T_0 <- ggplot(type_0, aes(x = Temperature..K.)) + geom_histogram(bins = 20)\n",
    "grid.arrange(L_0, T_0, ncol=2)"
   ]
  },
  {
   "cell_type": "markdown",
   "id": "274218c3-d0b6-4313-8a74-ecd9c63d93d8",
   "metadata": {},
   "source": [
    "In the Luminosity graph above, we can see that the distribution is unimodal and looks fairly normal with a few larger outliers. Most stars seem to have a luminosity between 0 and 0.001 LL_o. In the Temperature graph, we can see that the distribution looks bimodal peaking at around 2800 K and 3500 K."
   ]
  },
  {
   "cell_type": "markdown",
   "id": "57a56b4f-d53a-44a5-8c41-fbb0f9180aed",
   "metadata": {},
   "source": [
    "#### Red Dwarf Distributions"
   ]
  },
  {
   "cell_type": "code",
   "execution_count": 12,
   "id": "d89fd030-da38-4106-ac52-70744a7edc3a",
   "metadata": {},
   "outputs": [
    {
     "data": {
      "image/png": "[encoded data removed]",
      "text/plain": [
       "plot without title"
      ]
     },
     "metadata": {
      "image/png": {
       "height": 420,
       "width": 420
      }
     },
     "output_type": "display_data"
    }
   ],
   "source": [
    "# Find the distribution of luminosity and temperature values for the red dwarf star\n",
    "\n",
    "L_1 <- ggplot(type_1, aes(x = Luminosity.L.Lo.)) + geom_histogram(bins = 20)\n",
    "T_1 <- ggplot(type_1, aes(x = Temperature..K.)) + geom_histogram(bins = 20)\n",
    "grid.arrange(L_1, T_1, ncol=2)"
   ]
  },
  {
   "cell_type": "markdown",
   "id": "06af456f-75c7-46d5-bee4-bfd086571ff9",
   "metadata": {},
   "source": [
    "Similar to the brown dwarfs, the distribution of the Luminosity graph is unimodal and looks fairly normal with a few larger outlier. Most stars seem to have a luminosity between 0 and 0.01 LL_o. In the Temperature graph we can see that the distribution looks unimodal peaking in the range of 3100K to 3500K."
   ]
  },
  {
   "cell_type": "markdown",
   "id": "0536ab33-f746-454b-a875-b18c8792a4de",
   "metadata": {},
   "source": [
    "#### White Dwarf Distributions"
   ]
  },
  {
   "cell_type": "code",
   "execution_count": 13,
   "id": "5b5ff780-b200-461b-ae30-7749865be8d5",
   "metadata": {},
   "outputs": [
    {
     "data": {
      "image/png": "[encoded data removed]",
      "text/plain": [
       "plot without title"
      ]
     },
     "metadata": {
      "image/png": {
       "height": 420,
       "width": 420
      }
     },
     "output_type": "display_data"
    }
   ],
   "source": [
    "# Find the distribution of luminosity and temperature values for the white dwarf star\n",
    "\n",
    "L_2 <- ggplot(type_2, aes(x = Luminosity.L.Lo.)) + geom_histogram(bins = 20)\n",
    "T_2 <- ggplot(type_2, aes(x = Temperature..K.)) + geom_histogram(bins = 20)\n",
    "grid.arrange(L_2, T_2, ncol=2)"
   ]
  },
  {
   "cell_type": "markdown",
   "id": "dff608dd-d157-4ac5-aae4-f61175634eee",
   "metadata": {},
   "source": [
    "Finally, the Luminosity graph for white dwarfs has the same characteristics as the other two. Most stars seem to have a luminosity between 0 and 0.005 LL_o. In the Temperature graph we can see that the distribution looks right skewed and unimodal."
   ]
  },
  {
   "cell_type": "markdown",
   "id": "9cd94f44-0d59-4b7d-b583-b912c3ba085e",
   "metadata": {},
   "source": [
    "### Computing Parameter Estimates"
   ]
  },
  {
   "cell_type": "markdown",
   "id": "3da0642b-783e-444a-939d-19dfadcb910c",
   "metadata": {
    "tags": []
   },
   "source": [
    "#### Brown Star Estimates"
   ]
  },
  {
   "cell_type": "code",
   "execution_count": null,
   "id": "65d8c9a0-f020-455b-ab2c-bc43a3c7b38b",
   "metadata": {},
   "outputs": [],
   "source": []
  },
  {
   "cell_type": "code",
   "execution_count": 14,
   "id": "7a22df0d-25cc-48a1-92b4-175491baff66",
   "metadata": {},
   "outputs": [
    {
     "data": {
      "text/html": [
       "<table class=\"dataframe\">\n",
       "<caption>A data.frame: 1 × 5</caption>\n",
       "<thead>\n",
       "\t<tr><th scope=col>Type</th><th scope=col>mean_lum</th><th scope=col>sd_lum</th><th scope=col>mean_temp</th><th scope=col>sd_temp</th></tr>\n",
       "\t<tr><th scope=col>&lt;chr&gt;</th><th scope=col>&lt;dbl&gt;</th><th scope=col>&lt;dbl&gt;</th><th scope=col>&lt;dbl&gt;</th><th scope=col>&lt;dbl&gt;</th></tr>\n",
       "</thead>\n",
       "<tbody>\n",
       "\t<tr><td>Brown</td><td>0.000693275</td><td>0.0008879057</td><td>2997.95</td><td>332.2763</td></tr>\n",
       "</tbody>\n",
       "</table>\n"
      ],
      "text/latex": [
       "A data.frame: 1 × 5\n",
       "\\begin{tabular}{lllll}\n",
       " Type & mean\\_lum & sd\\_lum & mean\\_temp & sd\\_temp\\\\\n",
       " <chr> & <dbl> & <dbl> & <dbl> & <dbl>\\\\\n",
       "\\hline\n",
       "\t Brown & 0.000693275 & 0.0008879057 & 2997.95 & 332.2763\\\\\n",
       "\\end{tabular}\n"
      ],
      "text/markdown": [
       "\n",
       "A data.frame: 1 × 5\n",
       "\n",
       "| Type &lt;chr&gt; | mean_lum &lt;dbl&gt; | sd_lum &lt;dbl&gt; | mean_temp &lt;dbl&gt; | sd_temp &lt;dbl&gt; |\n",
       "|---|---|---|---|---|\n",
       "| Brown | 0.000693275 | 0.0008879057 | 2997.95 | 332.2763 |\n",
       "\n"
      ],
      "text/plain": [
       "  Type  mean_lum    sd_lum       mean_temp sd_temp \n",
       "1 Brown 0.000693275 0.0008879057 2997.95   332.2763"
      ]
     },
     "metadata": {},
     "output_type": "display_data"
    }
   ],
   "source": [
    "# Finding the mean and standard deviation of the luminosity and temperature of the brown star\n",
    "\n",
    "brown_dwarf_stats <- type_0 %>% \n",
    "    summarise(mean_lum = mean(Luminosity.L.Lo.), \n",
    "              sd_lum = sd(Luminosity.L.Lo.),\n",
    "              mean_temp = mean(Temperature..K.),\n",
    "              sd_temp = sd(Temperature..K.)) %>%\n",
    "    add_column(Type = \"Brown\", .before = \"mean_lum\")\n",
    "\n",
    "brown_dwarf_stats"
   ]
  },
  {
   "cell_type": "code",
   "execution_count": 15,
   "id": "22d67e77-b7b7-4112-9e2d-338ae781672f",
   "metadata": {},
   "outputs": [
    {
     "data": {
      "text/html": [
       "<table class=\"dataframe\">\n",
       "<caption>A data.frame: 1 × 5</caption>\n",
       "<thead>\n",
       "\t<tr><th scope=col>Type</th><th scope=col>mean_lum</th><th scope=col>sd_lum</th><th scope=col>mean_temp</th><th scope=col>sd_temp</th></tr>\n",
       "\t<tr><th scope=col>&lt;chr&gt;</th><th scope=col>&lt;dbl&gt;</th><th scope=col>&lt;dbl&gt;</th><th scope=col>&lt;dbl&gt;</th><th scope=col>&lt;dbl&gt;</th></tr>\n",
       "</thead>\n",
       "<tbody>\n",
       "\t<tr><td>Red</td><td>0.00540575</td><td>0.00733024</td><td>3283.825</td><td>269.6373</td></tr>\n",
       "</tbody>\n",
       "</table>\n"
      ],
      "text/latex": [
       "A data.frame: 1 × 5\n",
       "\\begin{tabular}{lllll}\n",
       " Type & mean\\_lum & sd\\_lum & mean\\_temp & sd\\_temp\\\\\n",
       " <chr> & <dbl> & <dbl> & <dbl> & <dbl>\\\\\n",
       "\\hline\n",
       "\t Red & 0.00540575 & 0.00733024 & 3283.825 & 269.6373\\\\\n",
       "\\end{tabular}\n"
      ],
      "text/markdown": [
       "\n",
       "A data.frame: 1 × 5\n",
       "\n",
       "| Type &lt;chr&gt; | mean_lum &lt;dbl&gt; | sd_lum &lt;dbl&gt; | mean_temp &lt;dbl&gt; | sd_temp &lt;dbl&gt; |\n",
       "|---|---|---|---|---|\n",
       "| Red | 0.00540575 | 0.00733024 | 3283.825 | 269.6373 |\n",
       "\n"
      ],
      "text/plain": [
       "  Type mean_lum   sd_lum     mean_temp sd_temp \n",
       "1 Red  0.00540575 0.00733024 3283.825  269.6373"
      ]
     },
     "metadata": {},
     "output_type": "display_data"
    }
   ],
   "source": [
    "# Finding the mean and standard deviation of the luminosity and temperature of the red star\n",
    "\n",
    "red_dwarf_stats <- type_1 %>% \n",
    "    summarise(mean_lum = mean(Luminosity.L.Lo.), \n",
    "              sd_lum = sd(Luminosity.L.Lo.),\n",
    "              mean_temp = mean(Temperature..K.),\n",
    "              sd_temp = sd(Temperature..K.)) %>%\n",
    "    add_column(Type = \"Red\", .before = \"mean_lum\")\n",
    "\n",
    "red_dwarf_stats"
   ]
  },
  {
   "cell_type": "code",
   "execution_count": 16,
   "id": "f5bafbfe-3cc5-4767-8c11-0f11fb2afb46",
   "metadata": {},
   "outputs": [
    {
     "data": {
      "text/html": [
       "<table class=\"dataframe\">\n",
       "<caption>A data.frame: 1 × 5</caption>\n",
       "<thead>\n",
       "\t<tr><th scope=col>Type</th><th scope=col>mean_lum</th><th scope=col>sd_lum</th><th scope=col>mean_temp</th><th scope=col>sd_temp</th></tr>\n",
       "\t<tr><th scope=col>&lt;chr&gt;</th><th scope=col>&lt;dbl&gt;</th><th scope=col>&lt;dbl&gt;</th><th scope=col>&lt;dbl&gt;</th><th scope=col>&lt;dbl&gt;</th></tr>\n",
       "</thead>\n",
       "<tbody>\n",
       "\t<tr><td>White</td><td>0.002433625</td><td>0.008912496</td><td>13931.45</td><td>4957.655</td></tr>\n",
       "</tbody>\n",
       "</table>\n"
      ],
      "text/latex": [
       "A data.frame: 1 × 5\n",
       "\\begin{tabular}{lllll}\n",
       " Type & mean\\_lum & sd\\_lum & mean\\_temp & sd\\_temp\\\\\n",
       " <chr> & <dbl> & <dbl> & <dbl> & <dbl>\\\\\n",
       "\\hline\n",
       "\t White & 0.002433625 & 0.008912496 & 13931.45 & 4957.655\\\\\n",
       "\\end{tabular}\n"
      ],
      "text/markdown": [
       "\n",
       "A data.frame: 1 × 5\n",
       "\n",
       "| Type &lt;chr&gt; | mean_lum &lt;dbl&gt; | sd_lum &lt;dbl&gt; | mean_temp &lt;dbl&gt; | sd_temp &lt;dbl&gt; |\n",
       "|---|---|---|---|---|\n",
       "| White | 0.002433625 | 0.008912496 | 13931.45 | 4957.655 |\n",
       "\n"
      ],
      "text/plain": [
       "  Type  mean_lum    sd_lum      mean_temp sd_temp \n",
       "1 White 0.002433625 0.008912496 13931.45  4957.655"
      ]
     },
     "metadata": {},
     "output_type": "display_data"
    }
   ],
   "source": [
    "# Finding the mean and standard deviation of the luminosity and temperature of the white star\n",
    "\n",
    "white_dwarf_stats <- type_2 %>% \n",
    "    summarise(mean_lum = mean(Luminosity.L.Lo.), \n",
    "              sd_lum = sd(Luminosity.L.Lo.),\n",
    "              mean_temp = mean(Temperature..K.),\n",
    "              sd_temp = sd(Temperature..K.)) %>%\n",
    "    add_column(Type = \"White\", .before = \"mean_lum\")\n",
    "\n",
    "white_dwarf_stats"
   ]
  },
  {
   "cell_type": "code",
   "execution_count": 17,
   "id": "97ff7195-c380-4328-a0d8-60d8f4dcd4ba",
   "metadata": {},
   "outputs": [
    {
     "data": {
      "text/html": [
       "<table class=\"dataframe\">\n",
       "<caption>A data.frame: 3 × 5</caption>\n",
       "<thead>\n",
       "\t<tr><th scope=col>Type</th><th scope=col>mean_lum</th><th scope=col>sd_lum</th><th scope=col>mean_temp</th><th scope=col>sd_temp</th></tr>\n",
       "\t<tr><th scope=col>&lt;chr&gt;</th><th scope=col>&lt;dbl&gt;</th><th scope=col>&lt;dbl&gt;</th><th scope=col>&lt;dbl&gt;</th><th scope=col>&lt;dbl&gt;</th></tr>\n",
       "</thead>\n",
       "<tbody>\n",
       "\t<tr><td>Brown</td><td>0.000693275</td><td>0.0008879057</td><td> 2997.950</td><td> 332.2763</td></tr>\n",
       "\t<tr><td>Red  </td><td>0.005405750</td><td>0.0073302401</td><td> 3283.825</td><td> 269.6373</td></tr>\n",
       "\t<tr><td>White</td><td>0.002433625</td><td>0.0089124960</td><td>13931.450</td><td>4957.6552</td></tr>\n",
       "</tbody>\n",
       "</table>\n"
      ],
      "text/latex": [
       "A data.frame: 3 × 5\n",
       "\\begin{tabular}{lllll}\n",
       " Type & mean\\_lum & sd\\_lum & mean\\_temp & sd\\_temp\\\\\n",
       " <chr> & <dbl> & <dbl> & <dbl> & <dbl>\\\\\n",
       "\\hline\n",
       "\t Brown & 0.000693275 & 0.0008879057 &  2997.950 &  332.2763\\\\\n",
       "\t Red   & 0.005405750 & 0.0073302401 &  3283.825 &  269.6373\\\\\n",
       "\t White & 0.002433625 & 0.0089124960 & 13931.450 & 4957.6552\\\\\n",
       "\\end{tabular}\n"
      ],
      "text/markdown": [
       "\n",
       "A data.frame: 3 × 5\n",
       "\n",
       "| Type &lt;chr&gt; | mean_lum &lt;dbl&gt; | sd_lum &lt;dbl&gt; | mean_temp &lt;dbl&gt; | sd_temp &lt;dbl&gt; |\n",
       "|---|---|---|---|---|\n",
       "| Brown | 0.000693275 | 0.0008879057 |  2997.950 |  332.2763 |\n",
       "| Red   | 0.005405750 | 0.0073302401 |  3283.825 |  269.6373 |\n",
       "| White | 0.002433625 | 0.0089124960 | 13931.450 | 4957.6552 |\n",
       "\n"
      ],
      "text/plain": [
       "  Type  mean_lum    sd_lum       mean_temp sd_temp  \n",
       "1 Brown 0.000693275 0.0008879057  2997.950  332.2763\n",
       "2 Red   0.005405750 0.0073302401  3283.825  269.6373\n",
       "3 White 0.002433625 0.0089124960 13931.450 4957.6552"
      ]
     },
     "metadata": {},
     "output_type": "display_data"
    }
   ],
   "source": [
    "# Combining all parameter estimates together\n",
    "\n",
    "parameter_estimates <- rbind(brown_dwarf_stats, red_dwarf_stats, white_dwarf_stats)\n",
    "parameter_estimates"
   ]
  },
  {
   "cell_type": "markdown",
   "id": "86341cbc-91cb-4e46-a90f-c50d9f894748",
   "metadata": {},
   "source": [
    "## Methods"
   ]
  },
  {
   "cell_type": "markdown",
   "id": "51dd33b6-1460-4168-86af-14e3e1ce2689",
   "metadata": {},
   "source": [
    "This report is trustworthy because the dataset that we use is fairly large, so it is potentially representative of the true population. Therefore the mean estimates that we have calculated can be good starting points to create confidence intervals for our population parameters. While our estimations are a good starting point, they are not enough to present to a stakeholder. The plots would be a better representation if we were to do some further data processing like bootstrapping or asymptotic testing. Additionally there is no way to estimate the sampling variability of the population of stars by examining point estimates of the standard deviation, or the distribution of values of the dataset. \n",
    "\n",
    "In order to address the gap we brought up above, we need to bootstrap to more closely approximate the actual distribution of the population, and by extension find a range of possible parameter estimates as opposed to a point estimate.\n",
    "In the final report, we expect to find whether we are confident to say there is a difference in the luminosity and temperature between dwarf stars. We will express our result and the uncertainty in a trustworthy way. We believe finding this clarifies the difference in some features between different types of dwarf stars, and further increases the accuracy and reliability of star classification. This analysis leads to future questions such as “is there a difference in the magnitude between dwarf stars”. Additionally we can use these results to infer real astronomical observations.\n",
    "\n",
    "Since our analysis will examine the means of 2 variables for 3 different groups, using 2 hypotheses would minimize the probability of making a type 1 error from the sample. We can carry this out by using an ANOVA test twice, one for the means of each variable."
   ]
  },
  {
   "cell_type": "markdown",
   "id": "0a18d7ac-d085-435c-8f49-7267dda7e599",
   "metadata": {},
   "source": [
    "# Bootstrap Analysis"
   ]
  },
  {
   "cell_type": "markdown",
   "id": "8a237898-a850-4702-b63f-63cdabcfaa57",
   "metadata": {},
   "source": [
    "In the following code cells we conduct a bootstrap on each of the different types of dwarf stars in order to find better estimates for the means and standard deviations of both luminosity and temperature. \n",
    "\n",
    "The first step in doing a bootstrap distribution is creating a bootstrap distribution of size 40 with 1000 replicates. Then we find the mean and standard deviation of each sample. We do this because we want to approximate the variance of the bootstrap distribution. Then we found the mean and standard deviation of the whole distribution. We do this for each type of star we have."
   ]
  },
  {
   "cell_type": "markdown",
   "id": "0eba2751-e871-498b-9eda-529227ac933f",
   "metadata": {},
   "source": [
    "### Bootstrap on Temperature and Luminosity of Brown Dwarfs"
   ]
  },
  {
   "cell_type": "code",
   "execution_count": 18,
   "id": "b56430cf-032f-4307-b3d5-ba192528b75b",
   "metadata": {},
   "outputs": [
    {
     "data": {
      "text/html": [
       "<table class=\"dataframe\">\n",
       "<caption>A tibble: 1 × 5</caption>\n",
       "<thead>\n",
       "\t<tr><th scope=col>Type</th><th scope=col>mean_lum</th><th scope=col>mean_temp</th><th scope=col>SE_lum</th><th scope=col>SE_temp</th></tr>\n",
       "\t<tr><th scope=col>&lt;chr&gt;</th><th scope=col>&lt;dbl&gt;</th><th scope=col>&lt;dbl&gt;</th><th scope=col>&lt;dbl&gt;</th><th scope=col>&lt;dbl&gt;</th></tr>\n",
       "</thead>\n",
       "<tbody>\n",
       "\t<tr><td>Brown</td><td>0.0007070451</td><td>3000.477</td><td>0.0008245661</td><td>324.734</td></tr>\n",
       "</tbody>\n",
       "</table>\n"
      ],
      "text/latex": [
       "A tibble: 1 × 5\n",
       "\\begin{tabular}{lllll}\n",
       " Type & mean\\_lum & mean\\_temp & SE\\_lum & SE\\_temp\\\\\n",
       " <chr> & <dbl> & <dbl> & <dbl> & <dbl>\\\\\n",
       "\\hline\n",
       "\t Brown & 0.0007070451 & 3000.477 & 0.0008245661 & 324.734\\\\\n",
       "\\end{tabular}\n"
      ],
      "text/markdown": [
       "\n",
       "A tibble: 1 × 5\n",
       "\n",
       "| Type &lt;chr&gt; | mean_lum &lt;dbl&gt; | mean_temp &lt;dbl&gt; | SE_lum &lt;dbl&gt; | SE_temp &lt;dbl&gt; |\n",
       "|---|---|---|---|---|\n",
       "| Brown | 0.0007070451 | 3000.477 | 0.0008245661 | 324.734 |\n",
       "\n"
      ],
      "text/plain": [
       "  Type  mean_lum     mean_temp SE_lum       SE_temp\n",
       "1 Brown 0.0007070451 3000.477  0.0008245661 324.734"
      ]
     },
     "metadata": {},
     "output_type": "display_data"
    }
   ],
   "source": [
    "brown_dwarf_stats <- type_0 %>% \n",
    "    rep_sample_n(size = 40, reps = 1000, replace = TRUE) %>% #Creating the bootstrap distribution. \n",
    "    group_by(replicate) %>% \n",
    "    summarise(mean_lum = mean(Luminosity.L.Lo.), #Finding means and standard deviations of each sample. \n",
    "              mean_temp = mean(Temperature..K.),\n",
    "              sd_lum = sd(Luminosity.L.Lo.),\n",
    "              sd_temp = sd(Temperature..K.)) %>%\n",
    "    summarise(mean_lum = mean(mean_lum), #Using means to summarizing the estimates. \n",
    "              mean_temp = mean(mean_temp), \n",
    "              SE_lum = mean(sd_lum), \n",
    "              SE_temp = mean(sd_temp)) %>%\n",
    "    add_column(Type = \"Brown\", .before = \"mean_lum\")\n",
    "brown_dwarf_stats"
   ]
  },
  {
   "cell_type": "markdown",
   "id": "dddeaacc-127d-42b6-a019-38d12259d440",
   "metadata": {},
   "source": [
    "We can see that for brown dwarfs bootstrap distribution our mean luminosity is 6.92e-4 L/Lo and its associated standard error is 7.95e-4 L/Lo. For our temperature bootstrap distribution the mean is 2996.97 K and its associated standard error is 325.7 K."
   ]
  },
  {
   "cell_type": "markdown",
   "id": "2d418ef5-f8ef-4c83-b742-8c9d6141524b",
   "metadata": {},
   "source": [
    "### Bootstrap on Temperature and Luminosity of Red Dwarfs"
   ]
  },
  {
   "cell_type": "code",
   "execution_count": 19,
   "id": "6fc9d54f-1a55-4056-ac5f-c13d978e337f",
   "metadata": {},
   "outputs": [
    {
     "data": {
      "text/html": [
       "<table class=\"dataframe\">\n",
       "<caption>A tibble: 1 × 5</caption>\n",
       "<thead>\n",
       "\t<tr><th scope=col>Type</th><th scope=col>mean_lum</th><th scope=col>mean_temp</th><th scope=col>SE_lum</th><th scope=col>SE_temp</th></tr>\n",
       "\t<tr><th scope=col>&lt;chr&gt;</th><th scope=col>&lt;dbl&gt;</th><th scope=col>&lt;dbl&gt;</th><th scope=col>&lt;dbl&gt;</th><th scope=col>&lt;dbl&gt;</th></tr>\n",
       "</thead>\n",
       "<tbody>\n",
       "\t<tr><td>Red</td><td>0.00538928</td><td>3284.495</td><td>0.006905666</td><td>264.088</td></tr>\n",
       "</tbody>\n",
       "</table>\n"
      ],
      "text/latex": [
       "A tibble: 1 × 5\n",
       "\\begin{tabular}{lllll}\n",
       " Type & mean\\_lum & mean\\_temp & SE\\_lum & SE\\_temp\\\\\n",
       " <chr> & <dbl> & <dbl> & <dbl> & <dbl>\\\\\n",
       "\\hline\n",
       "\t Red & 0.00538928 & 3284.495 & 0.006905666 & 264.088\\\\\n",
       "\\end{tabular}\n"
      ],
      "text/markdown": [
       "\n",
       "A tibble: 1 × 5\n",
       "\n",
       "| Type &lt;chr&gt; | mean_lum &lt;dbl&gt; | mean_temp &lt;dbl&gt; | SE_lum &lt;dbl&gt; | SE_temp &lt;dbl&gt; |\n",
       "|---|---|---|---|---|\n",
       "| Red | 0.00538928 | 3284.495 | 0.006905666 | 264.088 |\n",
       "\n"
      ],
      "text/plain": [
       "  Type mean_lum   mean_temp SE_lum      SE_temp\n",
       "1 Red  0.00538928 3284.495  0.006905666 264.088"
      ]
     },
     "metadata": {},
     "output_type": "display_data"
    }
   ],
   "source": [
    "red_dwarf_stats <- type_1 %>% \n",
    "    rep_sample_n(size = 40, reps = 1000, replace = TRUE) %>% \n",
    "    group_by(replicate) %>% \n",
    "    summarise(mean_lum = mean(Luminosity.L.Lo.), \n",
    "              mean_temp = mean(Temperature..K.),\n",
    "              sd_lum = sd(Luminosity.L.Lo.),\n",
    "              sd_temp = sd(Temperature..K.)) %>%\n",
    "    summarise(mean_lum = mean(mean_lum), \n",
    "              mean_temp = mean(mean_temp), \n",
    "              SE_lum = mean(sd_lum), \n",
    "              SE_temp = mean(sd_temp)) %>%\n",
    "    add_column(Type = \"Red\", .before = \"mean_lum\")\n",
    "red_dwarf_stats"
   ]
  },
  {
   "cell_type": "markdown",
   "id": "e86e7a8d-6235-4c73-a5c6-42fbdf9fd4f6",
   "metadata": {},
   "source": [
    "We can see that for red dwarfs bootstrap distribution our mean luminosity is 5.45e-3 L/Lo and its associated standard error is 7.03e-3 L/Lo. For our temperature bootstrap distribution the mean is 3284.7 K and its associated standard error is 265.2 K."
   ]
  },
  {
   "cell_type": "markdown",
   "id": "7d93815b-9344-481b-8350-b7abfd2f9e74",
   "metadata": {},
   "source": [
    "### Bootstrap on Temperature and Luminosity of White Dwarfs"
   ]
  },
  {
   "cell_type": "code",
   "execution_count": 20,
   "id": "5c591da0-ce74-42f2-bcc7-be69ace662a8",
   "metadata": {},
   "outputs": [
    {
     "data": {
      "text/html": [
       "<table class=\"dataframe\">\n",
       "<caption>A tibble: 1 × 5</caption>\n",
       "<thead>\n",
       "\t<tr><th scope=col>Type</th><th scope=col>mean_lum</th><th scope=col>mean_temp</th><th scope=col>SE_lum</th><th scope=col>SE_temp</th></tr>\n",
       "\t<tr><th scope=col>&lt;chr&gt;</th><th scope=col>&lt;dbl&gt;</th><th scope=col>&lt;dbl&gt;</th><th scope=col>&lt;dbl&gt;</th><th scope=col>&lt;dbl&gt;</th></tr>\n",
       "</thead>\n",
       "<tbody>\n",
       "\t<tr><td>White</td><td>0.002333846</td><td>13944.54</td><td>0.00709547</td><td>4852.951</td></tr>\n",
       "</tbody>\n",
       "</table>\n"
      ],
      "text/latex": [
       "A tibble: 1 × 5\n",
       "\\begin{tabular}{lllll}\n",
       " Type & mean\\_lum & mean\\_temp & SE\\_lum & SE\\_temp\\\\\n",
       " <chr> & <dbl> & <dbl> & <dbl> & <dbl>\\\\\n",
       "\\hline\n",
       "\t White & 0.002333846 & 13944.54 & 0.00709547 & 4852.951\\\\\n",
       "\\end{tabular}\n"
      ],
      "text/markdown": [
       "\n",
       "A tibble: 1 × 5\n",
       "\n",
       "| Type &lt;chr&gt; | mean_lum &lt;dbl&gt; | mean_temp &lt;dbl&gt; | SE_lum &lt;dbl&gt; | SE_temp &lt;dbl&gt; |\n",
       "|---|---|---|---|---|\n",
       "| White | 0.002333846 | 13944.54 | 0.00709547 | 4852.951 |\n",
       "\n"
      ],
      "text/plain": [
       "  Type  mean_lum    mean_temp SE_lum     SE_temp \n",
       "1 White 0.002333846 13944.54  0.00709547 4852.951"
      ]
     },
     "metadata": {},
     "output_type": "display_data"
    }
   ],
   "source": [
    "white_dwarf_stats <- type_2 %>% \n",
    "    rep_sample_n(size = 40, reps = 1000, replace = TRUE) %>% \n",
    "    group_by(replicate) %>% \n",
    "    summarise(mean_lum = mean(Luminosity.L.Lo.), \n",
    "              mean_temp = mean(Temperature..K.),\n",
    "              sd_lum = sd(Luminosity.L.Lo.),\n",
    "              sd_temp = sd(Temperature..K.)) %>%\n",
    "    summarise(mean_lum = mean(mean_lum), \n",
    "              mean_temp = mean(mean_temp), \n",
    "              SE_lum = mean(sd_lum), \n",
    "              SE_temp = mean(sd_temp)) %>%\n",
    "    add_column(Type = \"White\", .before = \"mean_lum\")\n",
    "white_dwarf_stats"
   ]
  },
  {
   "cell_type": "markdown",
   "id": "79c72918-e3ec-436b-8992-4acca34795b8",
   "metadata": {},
   "source": [
    "We can see that for brown dwarfs bootstrap distribution our mean luminosity is 2.46e-3 L/Lo and its associated standard error is 7.47e-3 L/Lo. For our temperature bootstrap distribution the mean is 13937.92 K and its associated standard error is 4884.55 K."
   ]
  },
  {
   "cell_type": "code",
   "execution_count": 21,
   "id": "42a84eab-d884-4146-9461-099612fa2775",
   "metadata": {},
   "outputs": [
    {
     "data": {
      "text/html": [
       "<table class=\"dataframe\">\n",
       "<caption>A tibble: 3 × 5</caption>\n",
       "<thead>\n",
       "\t<tr><th scope=col>Type</th><th scope=col>mean_lum</th><th scope=col>mean_temp</th><th scope=col>SE_lum</th><th scope=col>SE_temp</th></tr>\n",
       "\t<tr><th scope=col>&lt;chr&gt;</th><th scope=col>&lt;dbl&gt;</th><th scope=col>&lt;dbl&gt;</th><th scope=col>&lt;dbl&gt;</th><th scope=col>&lt;dbl&gt;</th></tr>\n",
       "</thead>\n",
       "<tbody>\n",
       "\t<tr><td>Brown</td><td>0.0007070451</td><td> 3000.477</td><td>0.0008245661</td><td> 324.734</td></tr>\n",
       "\t<tr><td>Red  </td><td>0.0053892802</td><td> 3284.495</td><td>0.0069056659</td><td> 264.088</td></tr>\n",
       "\t<tr><td>White</td><td>0.0023338461</td><td>13944.542</td><td>0.0070954702</td><td>4852.951</td></tr>\n",
       "</tbody>\n",
       "</table>\n"
      ],
      "text/latex": [
       "A tibble: 3 × 5\n",
       "\\begin{tabular}{lllll}\n",
       " Type & mean\\_lum & mean\\_temp & SE\\_lum & SE\\_temp\\\\\n",
       " <chr> & <dbl> & <dbl> & <dbl> & <dbl>\\\\\n",
       "\\hline\n",
       "\t Brown & 0.0007070451 &  3000.477 & 0.0008245661 &  324.734\\\\\n",
       "\t Red   & 0.0053892802 &  3284.495 & 0.0069056659 &  264.088\\\\\n",
       "\t White & 0.0023338461 & 13944.542 & 0.0070954702 & 4852.951\\\\\n",
       "\\end{tabular}\n"
      ],
      "text/markdown": [
       "\n",
       "A tibble: 3 × 5\n",
       "\n",
       "| Type &lt;chr&gt; | mean_lum &lt;dbl&gt; | mean_temp &lt;dbl&gt; | SE_lum &lt;dbl&gt; | SE_temp &lt;dbl&gt; |\n",
       "|---|---|---|---|---|\n",
       "| Brown | 0.0007070451 |  3000.477 | 0.0008245661 |  324.734 |\n",
       "| Red   | 0.0053892802 |  3284.495 | 0.0069056659 |  264.088 |\n",
       "| White | 0.0023338461 | 13944.542 | 0.0070954702 | 4852.951 |\n",
       "\n"
      ],
      "text/plain": [
       "  Type  mean_lum     mean_temp SE_lum       SE_temp \n",
       "1 Brown 0.0007070451  3000.477 0.0008245661  324.734\n",
       "2 Red   0.0053892802  3284.495 0.0069056659  264.088\n",
       "3 White 0.0023338461 13944.542 0.0070954702 4852.951"
      ]
     },
     "metadata": {},
     "output_type": "display_data"
    }
   ],
   "source": [
    "bootstrap_estimates <- rbind(brown_dwarf_stats, red_dwarf_stats, white_dwarf_stats)\n",
    "bootstrap_estimates"
   ]
  },
  {
   "cell_type": "markdown",
   "id": "2238b135-c97f-428f-ae01-a4d5ffc5abe7",
   "metadata": {},
   "source": [
    "Above is a summary of all the statistics of the bootstrap for each star type. We can see that the mean luminosity of brown dwarfs is significantly smaller (a power of 10) than the mean luminosity of red and white dwarfs. Similarly the standard error of brown dwarfs is significantly smaller (by a power of 10) than the standard error of red and white dwarfs. \n",
    "\n",
    "The mean temperature of white dwarfs is larger than the means of red and brown dwarfs by a power of 10. The standard error of white dwarfs is larger than the standard error of the other two by a power of 10."
   ]
  },
  {
   "cell_type": "markdown",
   "id": "17449197-872b-4f91-84b5-dbe401c18c0c",
   "metadata": {},
   "source": [
    "# ANOVA"
   ]
  },
  {
   "cell_type": "markdown",
   "id": "e9108c5e-74c5-4d6d-ad84-6f5ac5985834",
   "metadata": {},
   "source": [
    "ANOVA (Analysis of Variance) is a test to determine whether the difference between means across three or more groups exist by analyzing the overall and within-group variance. ANOVA test calculates F-value, which is the ratio of the variability between group means and the variation within groups, and corresponding p-value. If F-value is significantly greater than 1, the p-value is going to be small, we conclude that the variability between group means exists. In this project, since our goal is to analyze the difference between temperature and luminosity of three groups of dwarf planets, ANOVA becomes very appropriate and effective. In this section, we will conduct two ANOVA tests across three dwarf groups on both variables, and analyze the results.\n"
   ]
  },
  {
   "cell_type": "markdown",
   "id": "85817120-4ae7-47fa-89ab-6385fee5583f",
   "metadata": {},
   "source": [
    "### ANOVA for Temperature Across all Three Dwarf Types"
   ]
  },
  {
   "cell_type": "markdown",
   "id": "6ff42d04-34ec-4d22-b609-3847dd0fe252",
   "metadata": {},
   "source": [
    "We start with temperature. Before actually starting the ANOVA test, we need to do a little bit of cleanup, select the columns that we want, which are Star Type and Temperature."
   ]
  },
  {
   "cell_type": "code",
   "execution_count": 22,
   "id": "26b3f93e-eae3-4025-a651-840df5eafafa",
   "metadata": {},
   "outputs": [
    {
     "data": {
      "text/html": [
       "<table class=\"dataframe\">\n",
       "<caption>A data.frame: 6 × 2</caption>\n",
       "<thead>\n",
       "\t<tr><th></th><th scope=col>Temperature..K.</th><th scope=col>Star.type</th></tr>\n",
       "\t<tr><th></th><th scope=col>&lt;int&gt;</th><th scope=col>&lt;fct&gt;</th></tr>\n",
       "</thead>\n",
       "<tbody>\n",
       "\t<tr><th scope=row>1</th><td>3068</td><td>0</td></tr>\n",
       "\t<tr><th scope=row>2</th><td>3042</td><td>0</td></tr>\n",
       "\t<tr><th scope=row>3</th><td>2600</td><td>0</td></tr>\n",
       "\t<tr><th scope=row>4</th><td>2800</td><td>0</td></tr>\n",
       "\t<tr><th scope=row>5</th><td>1939</td><td>0</td></tr>\n",
       "\t<tr><th scope=row>6</th><td>2840</td><td>0</td></tr>\n",
       "</tbody>\n",
       "</table>\n"
      ],
      "text/latex": [
       "A data.frame: 6 × 2\n",
       "\\begin{tabular}{r|ll}\n",
       "  & Temperature..K. & Star.type\\\\\n",
       "  & <int> & <fct>\\\\\n",
       "\\hline\n",
       "\t1 & 3068 & 0\\\\\n",
       "\t2 & 3042 & 0\\\\\n",
       "\t3 & 2600 & 0\\\\\n",
       "\t4 & 2800 & 0\\\\\n",
       "\t5 & 1939 & 0\\\\\n",
       "\t6 & 2840 & 0\\\\\n",
       "\\end{tabular}\n"
      ],
      "text/markdown": [
       "\n",
       "A data.frame: 6 × 2\n",
       "\n",
       "| <!--/--> | Temperature..K. &lt;int&gt; | Star.type &lt;fct&gt; |\n",
       "|---|---|---|\n",
       "| 1 | 3068 | 0 |\n",
       "| 2 | 3042 | 0 |\n",
       "| 3 | 2600 | 0 |\n",
       "| 4 | 2800 | 0 |\n",
       "| 5 | 1939 | 0 |\n",
       "| 6 | 2840 | 0 |\n",
       "\n"
      ],
      "text/plain": [
       "  Temperature..K. Star.type\n",
       "1 3068            0        \n",
       "2 3042            0        \n",
       "3 2600            0        \n",
       "4 2800            0        \n",
       "5 1939            0        \n",
       "6 2840            0        "
      ]
     },
     "metadata": {},
     "output_type": "display_data"
    }
   ],
   "source": [
    "# filter out the target column Temperature to get the tidy data set\n",
    "dwarfs_temp <- dwarfs %>%\n",
    "               select(Temperature..K., Star.type)\n",
    "head(dwarfs_temp)"
   ]
  },
  {
   "cell_type": "markdown",
   "id": "012419a3-0a11-4bcc-a465-7b313cef95b2",
   "metadata": {},
   "source": [
    "In the following two blocks of code, we perform ANOVA test on temperature across three groups of dwarfs."
   ]
  },
  {
   "cell_type": "code",
   "execution_count": 23,
   "id": "d5cc9ef0-0000-4b68-ad4b-51c4eda0c0d9",
   "metadata": {},
   "outputs": [
    {
     "name": "stdout",
     "output_type": "stream",
     "text": [
      "\u001b[90m# A tibble: 2 × 6\u001b[39m\n",
      "  term         df       sumsq      meansq statistic   p.value\n",
      "  \u001b[3m\u001b[90m<chr>\u001b[39m\u001b[23m     \u001b[3m\u001b[90m<dbl>\u001b[39m\u001b[23m       \u001b[3m\u001b[90m<dbl>\u001b[39m\u001b[23m       \u001b[3m\u001b[90m<dbl>\u001b[39m\u001b[23m     \u001b[3m\u001b[90m<dbl>\u001b[39m\u001b[23m     \u001b[3m\u001b[90m<dbl>\u001b[39m\u001b[23m\n",
      "\u001b[90m1\u001b[39m Star.type     2 \u001b[4m3\u001b[24m106\u001b[4m6\u001b[24m\u001b[4m0\u001b[24m\u001b[4m0\u001b[24m865. \u001b[4m1\u001b[24m553\u001b[4m3\u001b[24m\u001b[4m0\u001b[24m\u001b[4m0\u001b[24m433.      188.  2.74\u001b[90me\u001b[39m\u001b[31m-37\u001b[39m\n",
      "\u001b[90m2\u001b[39m Residuals   117  965\u001b[4m6\u001b[24m\u001b[4m9\u001b[24m\u001b[4m6\u001b[24m814.    8\u001b[4m2\u001b[24m\u001b[4m5\u001b[24m\u001b[4m3\u001b[24m819.       \u001b[31mNA\u001b[39m  \u001b[31mNA\u001b[39m   \u001b[90m \u001b[39m   \n"
     ]
    }
   ],
   "source": [
    "# Perform ANOVA test and print the result table\n",
    "anova_temp <- aov(Temperature..K.~Star.type, data = dwarfs_temp)%>%\n",
    "              tidy()\n",
    "print(anova_temp)"
   ]
  },
  {
   "cell_type": "code",
   "execution_count": 24,
   "id": "4750d0c8-f241-4fb5-99f5-c8f6f8630228",
   "metadata": {},
   "outputs": [
    {
     "name": "stdout",
     "output_type": "stream",
     "text": [
      "[1] 188.1917\n",
      "[1] 2.738892e-37\n"
     ]
    }
   ],
   "source": [
    "# Filter out the F-value from the table above\n",
    "# Filter out the p-value from the table above\n",
    "f_stat_temp <- anova_temp %>%\n",
    "          filter(term == \"Star.type\") %>%\n",
    "          select(statistic) %>%\n",
    "          as.numeric()\n",
    "anova_pval_temp <- anova_temp %>%\n",
    "              filter(term == \"Star.type\") %>%\n",
    "              select(p.value) %>%\n",
    "              as.numeric()\n",
    "print(f_stat_temp)\n",
    "print(anova_pval_temp)"
   ]
  },
  {
   "cell_type": "markdown",
   "id": "698f3e51-0faa-4480-b959-61436110908d",
   "metadata": {},
   "source": [
    "After performing ANOVA test on temperature, we obtained the F-value = 188.91, and the p-value = 2.74e-37. "
   ]
  },
  {
   "cell_type": "markdown",
   "id": "b378cabd-29c3-4111-9859-80481f0e2dab",
   "metadata": {},
   "source": [
    "### ANOVA for Luminosity Across all Three Dwarf Types"
   ]
  },
  {
   "cell_type": "markdown",
   "id": "8e5a7ed5-e1b8-423b-9fbb-f1164cd6c843",
   "metadata": {},
   "source": [
    "In this piece of code, we select luminosity and star type columns in order to prepare for the ANOVA test."
   ]
  },
  {
   "cell_type": "code",
   "execution_count": 25,
   "id": "f5bac5f3-64dc-4867-953a-f534bdcac32a",
   "metadata": {},
   "outputs": [
    {
     "data": {
      "text/html": [
       "<table class=\"dataframe\">\n",
       "<caption>A data.frame: 6 × 2</caption>\n",
       "<thead>\n",
       "\t<tr><th></th><th scope=col>Luminosity.L.Lo.</th><th scope=col>Star.type</th></tr>\n",
       "\t<tr><th></th><th scope=col>&lt;dbl&gt;</th><th scope=col>&lt;fct&gt;</th></tr>\n",
       "</thead>\n",
       "<tbody>\n",
       "\t<tr><th scope=row>1</th><td>0.002400</td><td>0</td></tr>\n",
       "\t<tr><th scope=row>2</th><td>0.000500</td><td>0</td></tr>\n",
       "\t<tr><th scope=row>3</th><td>0.000300</td><td>0</td></tr>\n",
       "\t<tr><th scope=row>4</th><td>0.000200</td><td>0</td></tr>\n",
       "\t<tr><th scope=row>5</th><td>0.000138</td><td>0</td></tr>\n",
       "\t<tr><th scope=row>6</th><td>0.000650</td><td>0</td></tr>\n",
       "</tbody>\n",
       "</table>\n"
      ],
      "text/latex": [
       "A data.frame: 6 × 2\n",
       "\\begin{tabular}{r|ll}\n",
       "  & Luminosity.L.Lo. & Star.type\\\\\n",
       "  & <dbl> & <fct>\\\\\n",
       "\\hline\n",
       "\t1 & 0.002400 & 0\\\\\n",
       "\t2 & 0.000500 & 0\\\\\n",
       "\t3 & 0.000300 & 0\\\\\n",
       "\t4 & 0.000200 & 0\\\\\n",
       "\t5 & 0.000138 & 0\\\\\n",
       "\t6 & 0.000650 & 0\\\\\n",
       "\\end{tabular}\n"
      ],
      "text/markdown": [
       "\n",
       "A data.frame: 6 × 2\n",
       "\n",
       "| <!--/--> | Luminosity.L.Lo. &lt;dbl&gt; | Star.type &lt;fct&gt; |\n",
       "|---|---|---|\n",
       "| 1 | 0.002400 | 0 |\n",
       "| 2 | 0.000500 | 0 |\n",
       "| 3 | 0.000300 | 0 |\n",
       "| 4 | 0.000200 | 0 |\n",
       "| 5 | 0.000138 | 0 |\n",
       "| 6 | 0.000650 | 0 |\n",
       "\n"
      ],
      "text/plain": [
       "  Luminosity.L.Lo. Star.type\n",
       "1 0.002400         0        \n",
       "2 0.000500         0        \n",
       "3 0.000300         0        \n",
       "4 0.000200         0        \n",
       "5 0.000138         0        \n",
       "6 0.000650         0        "
      ]
     },
     "metadata": {},
     "output_type": "display_data"
    }
   ],
   "source": [
    "# filter out the target column Luminosity to get the tidy data set\n",
    "dwarfs_lumi <- dwarfs %>%\n",
    "               select(Luminosity.L.Lo., Star.type)\n",
    "head(dwarfs_lumi)"
   ]
  },
  {
   "cell_type": "markdown",
   "id": "cfe3667d-9f0a-4f02-b58b-49fa309ef765",
   "metadata": {},
   "source": [
    "In the following two blocks of code, we perform ANOVA test on luminosity across three groups of dwarfs."
   ]
  },
  {
   "cell_type": "code",
   "execution_count": 26,
   "id": "48c61c98-e920-4779-9130-da439902a860",
   "metadata": {},
   "outputs": [
    {
     "name": "stdout",
     "output_type": "stream",
     "text": [
      "\u001b[90m# A tibble: 2 × 6\u001b[39m\n",
      "  term         df    sumsq    meansq statistic  p.value\n",
      "  \u001b[3m\u001b[90m<chr>\u001b[39m\u001b[23m     \u001b[3m\u001b[90m<dbl>\u001b[39m\u001b[23m    \u001b[3m\u001b[90m<dbl>\u001b[39m\u001b[23m     \u001b[3m\u001b[90m<dbl>\u001b[39m\u001b[23m     \u001b[3m\u001b[90m<dbl>\u001b[39m\u001b[23m    \u001b[3m\u001b[90m<dbl>\u001b[39m\u001b[23m\n",
      "\u001b[90m1\u001b[39m Star.type     2 0.000\u001b[4m4\u001b[24m\u001b[4m5\u001b[24m\u001b[4m4\u001b[24m 0.000\u001b[4m2\u001b[24m\u001b[4m2\u001b[24m\u001b[4m7\u001b[24m       5.09  0.007\u001b[4m6\u001b[24m\u001b[4m1\u001b[24m\n",
      "\u001b[90m2\u001b[39m Residuals   117 0.005\u001b[4m2\u001b[24m\u001b[4m2\u001b[24m  0.000\u001b[4m0\u001b[24m\u001b[4m4\u001b[24m\u001b[4m4\u001b[24m7     \u001b[31mNA\u001b[39m    \u001b[31mNA\u001b[39m      \n"
     ]
    }
   ],
   "source": [
    "# Perform ANOVA test and print the result table\n",
    "anova_lumi <- aov(Luminosity.L.Lo.~Star.type, data = dwarfs_lumi)%>%\n",
    "              tidy()\n",
    "print(anova_lumi)"
   ]
  },
  {
   "cell_type": "code",
   "execution_count": 27,
   "id": "4055a26d-c3df-4d8c-be98-4a3332278229",
   "metadata": {},
   "outputs": [
    {
     "name": "stdout",
     "output_type": "stream",
     "text": [
      "[1] 5.086809\n",
      "[1] 0.007614593\n"
     ]
    }
   ],
   "source": [
    "# Filter out the F-value from the table above\n",
    "# Filter out the p-value from the table above\n",
    "f_stat_lumi <- anova_lumi %>%\n",
    "          filter(term == \"Star.type\") %>%\n",
    "          select(statistic) %>%\n",
    "          as.numeric()\n",
    "anova_pval_lumi <- anova_lumi%>%\n",
    "              filter(term == \"Star.type\") %>%\n",
    "              select(p.value) %>%\n",
    "              as.numeric()\n",
    "print(f_stat_lumi)\n",
    "print(anova_pval_lumi)"
   ]
  },
  {
   "cell_type": "markdown",
   "id": "1ca67735-2b5f-4297-84c8-96d7ace20d28",
   "metadata": {},
   "source": [
    "After performing ANOVA test on luminosity, we obtained the F-value = 5.09, and the p-value = 0.0076. "
   ]
  },
  {
   "cell_type": "markdown",
   "id": "208ce85d-b0f4-48ab-8abd-8207e233d8ae",
   "metadata": {},
   "source": [
    "# Results"
   ]
  },
  {
   "cell_type": "markdown",
   "id": "edb125a3-40f6-4e4e-aebf-81c31462e254",
   "metadata": {},
   "source": [
    "The table below summarizes the result from two ANOVA tests."
   ]
  },
  {
   "cell_type": "code",
   "execution_count": 28,
   "id": "7d4607fc-50c1-4085-b8e7-df169f6873a5",
   "metadata": {},
   "outputs": [
    {
     "data": {
      "text/html": [
       "<table class=\"dataframe\">\n",
       "<caption>A data.frame: 2 × 3</caption>\n",
       "<thead>\n",
       "\t<tr><th scope=col>Type</th><th scope=col>Temperature_Result</th><th scope=col>Luminosity_Result</th></tr>\n",
       "\t<tr><th scope=col>&lt;chr&gt;</th><th scope=col>&lt;dbl&gt;</th><th scope=col>&lt;dbl&gt;</th></tr>\n",
       "</thead>\n",
       "<tbody>\n",
       "\t<tr><td>F-Value</td><td>1.881917e+02</td><td>5.086809377</td></tr>\n",
       "\t<tr><td>P-Value</td><td>2.738892e-37</td><td>0.007614593</td></tr>\n",
       "</tbody>\n",
       "</table>\n"
      ],
      "text/latex": [
       "A data.frame: 2 × 3\n",
       "\\begin{tabular}{lll}\n",
       " Type & Temperature\\_Result & Luminosity\\_Result\\\\\n",
       " <chr> & <dbl> & <dbl>\\\\\n",
       "\\hline\n",
       "\t F-Value & 1.881917e+02 & 5.086809377\\\\\n",
       "\t P-Value & 2.738892e-37 & 0.007614593\\\\\n",
       "\\end{tabular}\n"
      ],
      "text/markdown": [
       "\n",
       "A data.frame: 2 × 3\n",
       "\n",
       "| Type &lt;chr&gt; | Temperature_Result &lt;dbl&gt; | Luminosity_Result &lt;dbl&gt; |\n",
       "|---|---|---|\n",
       "| F-Value | 1.881917e+02 | 5.086809377 |\n",
       "| P-Value | 2.738892e-37 | 0.007614593 |\n",
       "\n"
      ],
      "text/plain": [
       "  Type    Temperature_Result Luminosity_Result\n",
       "1 F-Value 1.881917e+02       5.086809377      \n",
       "2 P-Value 2.738892e-37       0.007614593      "
      ]
     },
     "metadata": {},
     "output_type": "display_data"
    }
   ],
   "source": [
    "# Result table to show the obtained F-values and P-values\n",
    "table <- data.frame (Type  = c(\"F-Value\", \"P-Value\"),\n",
    "                     Temperature_Result = c(f_stat_temp, anova_pval_temp),\n",
    "                     Luminosity_Result = c(f_stat_lumi, anova_pval_lumi))\n",
    "table"
   ]
  },
  {
   "cell_type": "markdown",
   "id": "9b696b51-17ce-49a0-90fd-ec56679d7fc4",
   "metadata": {},
   "source": [
    "In the temperature ANOVA test, the F-value obtained is 188.91, and the p-value is 2.74e-37. In this case, our F-value is significantly greater than 1. Therefore, the variation between group means is clearly larger than the variation within groups, indicating that at least one of the mean value is different across three groups. The p-value also states the result. Since p-value is significantly smaller than the critical value (0.05), it falls in reject region. Therefore, by looking at the ANOVA test for temperature across three groups, we say at least one of the mean value is different across three groups and the temperature of three dwarf groups are not all same."
   ]
  },
  {
   "cell_type": "markdown",
   "id": "6b84c436-c3b9-49c7-8325-7ccbbf323479",
   "metadata": {},
   "source": [
    "In the luminosity ANOVA test, The F-value obtained is 5.09, and the p-value is 0.0076. Although we get a much smaller F-value than the F-value in temperature test, it still clearly larger than 1. The p-value is also smaller than the critical value (0.05), and falls in reject region. Although we might say the difference between luminosity across groups is not as significantly as the difference between temperature, we are still confident to say at least one mean value is different from others, and the luminosity of three dwarf groups are not all same."
   ]
  },
  {
   "cell_type": "markdown",
   "id": "d7974aad-3fb0-479f-8fab-fe309aead4a0",
   "metadata": {},
   "source": [
    "# Discussion"
   ]
  },
  {
   "cell_type": "markdown",
   "id": "8696de76-61b7-4dea-ac03-851c95506de7",
   "metadata": {},
   "source": [
    "The results of our temperature ANOVA test showed that we got a p-value of 2.74e-37. This is significantly less than our alpha level of 0.05. As a result we reject the Null Hypothesis and conclude that there is a difference in the mean temperature of stars across the three categories (brown dwarfs, red dwarfs, and white dwarfs). From this one way ANOVA test we cannot conclude how the means differ just that all three means are not the same.\n",
    " \n",
    "The results of our luminosity ANOVA test showed that we got a p-value of 0.008. One again this is less than our alpha level of 0.05 and thus we reject the Null Hypothesis that the means of the luminosity are the same across all three star types. \n",
    "\n",
    "We expected these results because from our exploratory data analysis we could visually see that the means of the star types for both temperature and luminosity were very different. \n",
    "\n",
    "Even though the probability of a type I error is very small, we do not believe that we are at risk of committing a type II error. As the probability of type I error decreases, the probability of committing a type II error increases however we feel like that is offset by our large sample size."
   ]
  },
  {
   "cell_type": "markdown",
   "id": "979111f6-6de6-46d2-b0dd-d1d94b3d806c",
   "metadata": {},
   "source": [
    "## Implication of Findings\n",
    "\n",
    "The results of our ANOVA test indicate that there do exist differences between the three types of dwarfs in terms of temperature and luminosity. We are now relatively confident that the three types of dwarfs do not have the same average temperature and luminosity. \n",
    "First of all, we believe this finding further clarifies the difference between dwarf stars, giving a better understanding of stars and celestial bodies in the universe. \n",
    "\n",
    "In the article Red dwarfs: The most common and longest-lived stars, the author states that there is no true definition of red dwarf; the classification just refers to dwarf stars with different spectral types (Tillman, 2019). Therefore, we hope our finding helps to improve the accuracy of the star classification system. We also believe that the results could be easily applied to the real-world situation when people are doing actual astronomical analysis. For example, if anyone tries to clarify between multiple groups of dwarf stars, the results of this project could help them make a meaningful guess based on temperature and luminosity data. \n",
    "\n",
    "Furthermore, the difference in temperature and luminosity could indicate the existence of other differences which have not yet been found by people. It leads to various research topics on the reasons that cause these differences and impact of these differences on our current knowledge of celestial bodies."
   ]
  },
  {
   "cell_type": "markdown",
   "id": "7e4618d5-7cc4-4294-b1a7-bb7c226fa347",
   "metadata": {},
   "source": [
    "## Limitations of Analysis\n",
    "\n",
    "There are several limitations of our analysis. The first limitation is that although using ANOVA would be far better at limiting the probability of type 1 error, our groups do not have roughly equal variances. The temperature of white stars has a variance of $4957.6552^2$ which far exceeds that of the other 2 groups. A similar phenomenon is observed in the luminosity of brown stars, which is far less than the other 2 types. Therefore, our F-scores for both variables are somewhat inflated. \n",
    "\n",
    "A second limitation is that although our dataset is large enough (240 observations), our within-group distributions for the luminosity of white/brown/red stars are right skewed. Therefore, we might need a larger sample for the CLT to take effect for luminosity.\n"
   ]
  },
  {
   "cell_type": "markdown",
   "id": "7fdd0a88-d097-45e1-9c12-8342442d645f",
   "metadata": {},
   "source": [
    "## Further Questions"
   ]
  },
  {
   "cell_type": "markdown",
   "id": "bc425344-897e-464b-ac6e-9bf47061e793",
   "metadata": {},
   "source": [
    "Since our EDA points to which type of star varies in terms of the means and variances from the rest, a possible future analysis could be done to explore the temperatures and luminosities of the (red, brown) and the (red, white) stars respectively. \n",
    "\n",
    "Additionally we can also explore other star variables such as magnitude and color and see how their means differentiate.\n"
   ]
  },
  {
   "cell_type": "markdown",
   "id": "7cbc3b18-db18-4294-b74a-c1fcaf06a269",
   "metadata": {},
   "source": [
    "# References"
   ]
  },
  {
   "cell_type": "markdown",
   "id": "cf1f797d-36b1-4990-b098-2e67f52a114d",
   "metadata": {},
   "source": [
    "Chiosi, Cesare, Gianpaolo Bertelli, and Alessandro Bressan. \"New developments in understanding the HR diagram.\" Annual review of astronomy and astrophysics 30.1 (1992): 235-285.\n",
    "\n",
    "Koester, Detlev, and Ganesar Chanmugam. \"Physics of white dwarf stars.\" Reports on Progress in Physics 53.7 (1990): 837.\n",
    "\n",
    "Tillman, Nola Taylor, and Ben Biggs. “Main Sequence Stars: Definition & Life Cycle.” Space.com, Space, 26 Jan. 2022, https://www.space.com/22437-main-sequence-star.html. \n",
    "\n",
    "Tillman, Nola Taylor. “Red Dwarfs: The Most Common and Longest-Lived Stars.” Space.com, Space, 6 June 2019, https://www.space.com/23772-red-dwarf-stars.html. "
   ]
  },
  {
   "cell_type": "code",
   "execution_count": null,
   "id": "8b07863f-f4b5-4ba7-86c6-8d9580a1bb43",
   "metadata": {},
   "outputs": [],
   "source": []
  }
 ],
 "metadata": {
  "interpreter": {
   "hash": "a653215ae8f90e0f1006d0e719f32beb52a8f012348c9c864421278df0c233eb"
  },
  "kernelspec": {
   "display_name": "R",
   "language": "R",
   "name": "ir"
  },
  "language_info": {
   "codemirror_mode": "r",
   "file_extension": ".r",
   "mimetype": "text/x-r-source",
   "name": "R",
   "pygments_lexer": "r",
   "version": "4.1.2"
  }
 },
 "nbformat": 4,
 "nbformat_minor": 5
}
