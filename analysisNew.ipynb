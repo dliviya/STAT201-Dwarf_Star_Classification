{
 "cells": [
  {
   "cell_type": "markdown",
   "id": "951e5e8e-24d0-4da2-afa4-e76c16296bde",
   "metadata": {},
   "source": [
    "# Statistical Inference of Luminosity and Temperature of Dwarf Stars"
   ]
  },
  {
   "cell_type": "markdown",
   "id": "7177676d-af8d-4ebb-9a04-00c27cf694cc",
   "metadata": {},
   "source": [
    "### Ahmed Rizk, Cathy Liu, Divya Bilolikar, Olivia Pang"
   ]
  },
  {
   "cell_type": "code",
   "execution_count": 8,
   "id": "ec52d456-8142-4388-b193-ff5a36e9b001",
   "metadata": {},
   "outputs": [
    {
     "name": "stderr",
     "output_type": "stream",
     "text": [
      "Installing package into ‘/home/jupyter/R/x86_64-pc-linux-gnu-library/4.1’\n",
      "(as ‘lib’ is unspecified)\n",
      "\n",
      "also installing the dependency ‘patchwork’\n",
      "\n",
      "\n",
      "\n",
      "Attaching package: ‘gridExtra’\n",
      "\n",
      "\n",
      "The following object is masked from ‘package:dplyr’:\n",
      "\n",
      "    combine\n",
      "\n",
      "\n",
      "\n",
      "Attaching package: ‘testthat’\n",
      "\n",
      "\n",
      "The following object is masked from ‘package:dplyr’:\n",
      "\n",
      "    matches\n",
      "\n",
      "\n",
      "The following object is masked from ‘package:purrr’:\n",
      "\n",
      "    is_null\n",
      "\n",
      "\n",
      "The following objects are masked from ‘package:readr’:\n",
      "\n",
      "    edition_get, local_edition\n",
      "\n",
      "\n",
      "The following object is masked from ‘package:tidyr’:\n",
      "\n",
      "    matches\n",
      "\n",
      "\n"
     ]
    }
   ],
   "source": [
    "install.packages(\"infer\")\n",
    "library(tidyverse)\n",
    "library(infer)\n",
    "library(gridExtra)\n",
    "library(testthat)\n",
    "library(digest)\n",
    "library(broom)"
   ]
  },
  {
   "cell_type": "markdown",
   "id": "01c5376b-d46f-4bea-94ff-9e214e6a7922",
   "metadata": {},
   "source": [
    "## Introduction"
   ]
  },
  {
   "cell_type": "markdown",
   "id": "d6607bed-096a-425d-8a36-2dbc092eaede",
   "metadata": {},
   "source": [
    "In this project we want to determine if there is a difference in luminosity and temperature between red, brown, and white dwarfs. Our location parameter is the mean of luminosity and temperature and our scale parameter is the standard deviation of both luminosity and temperature. We chose these because our data is approximately normally distributed and its not skewed particularly.\n",
    "\n",
    "Stars are typically classified into four different groups – white dwarfs, main sequence, giants, and supergiants (Chiosi). A typical star will become a main sequence star and then end its lifecycle as a white dwarf, these are the most common stars (“Main Sequence Stars: Definition & Life Cycle.” ). Red dwarfs are not a type of white dwarf, rather they are a type of small main sequence star that is not very bright. Another type of dwarf is a brown dwarf. These are not usually classified as stars because they do not burn hot enough (“Red Dwarfs: The Most Common and Longest-Lived Stars.”). White dwarfs are very small dense stars that are not very bright when compared to main sequence stars (Koester). When a massive star is formed it will become a giant star or a supergiant and then end its lifecycle as a neutron star or a blackhole. Giants and supergiants are very large stars (with supergiant being even larger) that shine very bright when compared to main sequence stars (Chiosi). \n",
    "\n",
    "The dataset that are using has the following variables"
   ]
  },
  {
   "cell_type": "markdown",
   "id": "fba4d115-2a0d-44ba-83e6-44adaa8bc544",
   "metadata": {},
   "source": [
    "| Variable | Description |\n",
    "| :-: | :-: |\n",
    "| Absolute Temperature (K) | The temperature of the star in Kelvin |\n",
    "| Relative Luminosity (L/Lo) | The luminosity of the star when divided by the average luminosity of the sun (3.828 x 10^26 Watts) |\n",
    "| Relative Radius (R/Ro) | The radius of the star when divided by the average radius of the sun (6.9551 x 10^8 m) |\n",
    "| Absolute Magnitude (Mv) | The absolute magnitude of the star |\n",
    "| Star Color | The color of the star |\n",
    "| Spectral Class (O,B,A,F,G,K,M) | If the star is a main sequence star, the type of main sequence star it is |\n",
    "| Star Type (Red Dwarf, Brown Dwarf, White Dwarf, Main Sequence , SuperGiants, HyperGiants) | The type of star it is | "
   ]
  },
  {
   "cell_type": "markdown",
   "id": "0f6f8038-2f2e-4a40-9047-857ab5c77445",
   "metadata": {},
   "source": [
    "## Preliminary Analysis"
   ]
  },
  {
   "cell_type": "markdown",
   "id": "6778e1fc-3806-4f47-bcc5-bf804b64e33a",
   "metadata": {},
   "source": [
    "### Reading the dataset into R"
   ]
  },
  {
   "cell_type": "code",
   "execution_count": null,
   "id": "98a4457c-beb8-421a-b4f5-dd0ac072e63f",
   "metadata": {},
   "outputs": [],
   "source": [
    "stars <- read.csv(\"6-class.csv\")\n",
    "\n",
    "glimpse(stars)"
   ]
  },
  {
   "cell_type": "markdown",
   "id": "d30205b6-38ed-4bf0-b2fe-94e800a71817",
   "metadata": {},
   "source": [
    "### Cleaning and Wrangling"
   ]
  },
  {
   "cell_type": "code",
   "execution_count": null,
   "id": "f75e14ad-7b5e-4b25-9594-409a1e0afb79",
   "metadata": {},
   "outputs": [],
   "source": [
    "# change 'Star.type' to type 'factor' so that it can be treated as a categorical variable\n",
    "\n",
    "stars <- mutate(stars, Star.type = as_factor(Star.type))"
   ]
  },
  {
   "cell_type": "code",
   "execution_count": null,
   "id": "90dd3173-b58d-4959-a3a9-b4c522d6fb63",
   "metadata": {},
   "outputs": [],
   "source": [
    "# Filtering out the 'Giant' stars \n",
    "\n",
    "dwarfs <- stars %>%\n",
    "filter(Star.type != 5) %>%\n",
    "filter(Star.type != 4) %>%\n",
    "filter(Star.type != 3)\n"
   ]
  },
  {
   "cell_type": "markdown",
   "id": "0a7e8d03-e2c2-4ca7-aa48-1947d25033f0",
   "metadata": {},
   "source": [
    "### Visualizations"
   ]
  },
  {
   "cell_type": "code",
   "execution_count": null,
   "id": "2849d43d-474a-4951-b2f3-0c2db9474037",
   "metadata": {},
   "outputs": [],
   "source": [
    "# Creating boxplots to show the variation in luminosity and temperature across star types\n",
    "\n",
    "L_box <- ggplot(dwarfs, aes(x = Star.type, y = Luminosity.L.Lo.)) + geom_boxplot() + ggtitle(\"Luminosity vs Star Type\") + xlab(\"Star Type\") + ylab(\"Luminosity (Lo)\")\n",
    "T_box <- ggplot(dwarfs, aes(x = Star.type, y = Temperature..K.)) + geom_boxplot() +  ggtitle(\"Temperature vs Star Type\") +  xlab(\"Star Type\") + ylab(\"Temperature (K)\")\n",
    "grid.arrange(L_box, T_box, ncol=2)"
   ]
  },
  {
   "cell_type": "markdown",
   "id": "103d02f5-b601-4dec-b99a-8b063bbea5b0",
   "metadata": {},
   "source": [
    "In the figure above we can see the distributions of luminosity vs star type and temperature vs star type. We can see that the means of the luminosity across star types is very similar however the interquartile range of star type 1 is much larger. In the temperature vs star type graph we can see that the range and mean of star type  0 and 1 are very similar however both the mean and interquartile range of star type 2 is very large."
   ]
  },
  {
   "cell_type": "code",
   "execution_count": null,
   "id": "41b349e0-c469-463f-89a7-60b39ed72b82",
   "metadata": {},
   "outputs": [],
   "source": [
    "# Isolate each dwarf star type\n",
    "\n",
    "type_0 <- filter(stars, Star.type == 0)\n",
    "type_1 <- filter(stars, Star.type == 1)\n",
    "type_2 <- filter(stars, Star.type == 2)"
   ]
  },
  {
   "cell_type": "markdown",
   "id": "51833966-349b-42f5-8f48-e93582e89247",
   "metadata": {},
   "source": [
    "#### Brown Dwarf Distributions"
   ]
  },
  {
   "cell_type": "code",
   "execution_count": null,
   "id": "3b42def2-253a-4995-9ba8-caf1ced74819",
   "metadata": {},
   "outputs": [],
   "source": [
    "# Find the distribution of luminosity and temperature values for the brown dwarf star\n",
    "\n",
    "L_0 <- ggplot(type_0, aes(x = Luminosity.L.Lo.)) + geom_histogram(bins = 20)\n",
    "T_0 <- ggplot(type_0, aes(x = Temperature..K.)) + geom_histogram(bins = 20)\n",
    "grid.arrange(L_0, T_0, ncol=2)"
   ]
  },
  {
   "cell_type": "markdown",
   "id": "274218c3-d0b6-4313-8a74-ecd9c63d93d8",
   "metadata": {},
   "source": [
    "In the Luminosity graph above we can see that the distribution is unimodal and looks fairly normal with a few larger outlier. Most stars seem to have a luminosity between 0 and 0.001 LL_o. In the Temperature graph we can see that the dsitibution looks bimodal peaking at around 2800 K and 3500 K."
   ]
  },
  {
   "cell_type": "markdown",
   "id": "57a56b4f-d53a-44a5-8c41-fbb0f9180aed",
   "metadata": {},
   "source": [
    "#### Red Dwarf Distributions"
   ]
  },
  {
   "cell_type": "code",
   "execution_count": null,
   "id": "d89fd030-da38-4106-ac52-70744a7edc3a",
   "metadata": {},
   "outputs": [],
   "source": [
    "# Find the distribution of luminosity and temperature values for the red dwarf star\n",
    "\n",
    "L_1 <- ggplot(type_1, aes(x = Luminosity.L.Lo.)) + geom_histogram(bins = 20)\n",
    "T_1 <- ggplot(type_1, aes(x = Temperature..K.)) + geom_histogram(bins = 20)\n",
    "grid.arrange(L_1, T_1, ncol=2)"
   ]
  },
  {
   "cell_type": "markdown",
   "id": "06af456f-75c7-46d5-bee4-bfd086571ff9",
   "metadata": {},
   "source": [
    "In the Luminosity graph above we can see that the distribution is unimodal and looks fairly normal with a few larger outlier. Most stars seem to have a luminosity between 0 and 0.01 LL_o. In the Temperature graph we can see that the distribution looks unimodal peaking in the range of 3100K to 3500K."
   ]
  },
  {
   "cell_type": "markdown",
   "id": "0536ab33-f746-454b-a875-b18c8792a4de",
   "metadata": {},
   "source": [
    "#### White Dwarf Distributions"
   ]
  },
  {
   "cell_type": "code",
   "execution_count": null,
   "id": "5b5ff780-b200-461b-ae30-7749865be8d5",
   "metadata": {},
   "outputs": [],
   "source": [
    "# Find the distribution of luminosity and temperature values for the white dwarf star\n",
    "\n",
    "L_2 <- ggplot(type_2, aes(x = Luminosity.L.Lo.)) + geom_histogram(bins = 20)\n",
    "T_2 <- ggplot(type_2, aes(x = Temperature..K.)) + geom_histogram(bins = 20)\n",
    "grid.arrange(L_2, T_2, ncol=2)"
   ]
  },
  {
   "cell_type": "markdown",
   "id": "dff608dd-d157-4ac5-aae4-f61175634eee",
   "metadata": {},
   "source": [
    "In the Luminosity graph above we can see that the distribution is unimodal and looks fairly normal with a few larger outlier. Most stars seem to have a luminosity between 0 and 0.005 LL_o. In the Temperature graph we can see that the distribution looks right skewed uni modal."
   ]
  },
  {
   "cell_type": "markdown",
   "id": "9cd94f44-0d59-4b7d-b583-b912c3ba085e",
   "metadata": {},
   "source": [
    "### Computing Parameter Estimates"
   ]
  },
  {
   "cell_type": "markdown",
   "id": "3da0642b-783e-444a-939d-19dfadcb910c",
   "metadata": {},
   "source": [
    "#### Brown Star Estimates"
   ]
  },
  {
   "cell_type": "code",
   "execution_count": null,
   "id": "7a22df0d-25cc-48a1-92b4-175491baff66",
   "metadata": {},
   "outputs": [],
   "source": [
    "# Finding the mean and standard deviation of the luminosity and temperature of the brown star\n",
    "\n",
    "brown_dwarf_stats <- type_0 %>% \n",
    "    summarise(mean_lum = mean(Luminosity.L.Lo.), \n",
    "              sd_lum = sd(Luminosity.L.Lo.),\n",
    "              mean_temp = mean(Temperature..K.),\n",
    "              sd_temp = sd(Temperature..K.)) %>%\n",
    "    add_column(Type = \"Brown\", .before = \"mean_lum\")\n",
    "\n",
    "brown_dwarf_stats"
   ]
  },
  {
   "cell_type": "code",
   "execution_count": null,
   "id": "22d67e77-b7b7-4112-9e2d-338ae781672f",
   "metadata": {},
   "outputs": [],
   "source": [
    "# Finding the mean and standard deviation of the luminosity and temperature of the red star\n",
    "\n",
    "red_dwarf_stats <- type_1 %>% \n",
    "    summarise(mean_lum = mean(Luminosity.L.Lo.), \n",
    "              sd_lum = sd(Luminosity.L.Lo.),\n",
    "              mean_temp = mean(Temperature..K.),\n",
    "              sd_temp = sd(Temperature..K.)) %>%\n",
    "    add_column(Type = \"Red\", .before = \"mean_lum\")\n",
    "\n",
    "red_dwarf_stats"
   ]
  },
  {
   "cell_type": "code",
   "execution_count": null,
   "id": "f5bafbfe-3cc5-4767-8c11-0f11fb2afb46",
   "metadata": {},
   "outputs": [],
   "source": [
    "# Finding the mean and standard deviation of the luminosity and temperature of the white star\n",
    "\n",
    "white_dwarf_stats <- type_2 %>% \n",
    "    summarise(mean_lum = mean(Luminosity.L.Lo.), \n",
    "              sd_lum = sd(Luminosity.L.Lo.),\n",
    "              mean_temp = mean(Temperature..K.),\n",
    "              sd_temp = sd(Temperature..K.)) %>%\n",
    "    add_column(Type = \"White\", .before = \"mean_lum\")\n",
    "\n",
    "white_dwarf_stats"
   ]
  },
  {
   "cell_type": "code",
   "execution_count": null,
   "id": "97ff7195-c380-4328-a0d8-60d8f4dcd4ba",
   "metadata": {},
   "outputs": [],
   "source": [
    "# Combining all parameter estimates together\n",
    "\n",
    "parameter_estimates <- rbind(brown_dwarf_stats, red_dwarf_stats, white_dwarf_stats)\n",
    "parameter_estimates"
   ]
  },
  {
   "cell_type": "code",
   "execution_count": 5,
   "id": "5523b7c4-359b-49e4-8a54-40daf9609859",
   "metadata": {},
   "outputs": [
    {
     "ename": "ERROR",
     "evalue": "Error in rep_sample_n(., size = 40, reps = 1000, replace = TRUE): could not find function \"rep_sample_n\"\n",
     "output_type": "error",
     "traceback": [
      "Error in rep_sample_n(., size = 40, reps = 1000, replace = TRUE): could not find function \"rep_sample_n\"\nTraceback:\n",
      "1. type_0 %>% rep_sample_n(size = 40, reps = 1000, replace = TRUE) %>% \n .     group_by(replicate) %>% summarise(mean_lum = mean(Luminosity.L.Lo.), \n .     mean_temp = mean(Temperature..K.), sd_lum = sd(Luminosity.L.Lo.), \n .     sd_temp = sd(Temperature..K.)) %>% summarise(mean_lum = mean(mean_lum), \n .     mean_temp = mean(mean_temp), SE_lum = mean(sd_lum), SE_temp = mean(sd_temp)) %>% \n .     add_column(Type = \"Brown\", .before = \"mean_lum\")",
      "2. add_column(., Type = \"Brown\", .before = \"mean_lum\")",
      "3. is.data.frame(.data)",
      "4. summarise(., mean_lum = mean(mean_lum), mean_temp = mean(mean_temp), \n .     SE_lum = mean(sd_lum), SE_temp = mean(sd_temp))",
      "5. summarise(., mean_lum = mean(Luminosity.L.Lo.), mean_temp = mean(Temperature..K.), \n .     sd_lum = sd(Luminosity.L.Lo.), sd_temp = sd(Temperature..K.))",
      "6. group_by(., replicate)"
     ]
    }
   ],
   "source": [
    "#bootstrap\n",
    "brown_dwarf_stats <- type_0 %>% \n",
    "    rep_sample_n(size = 40, reps = 1000, replace = TRUE) %>% \n",
    "    group_by(replicate) %>% \n",
    "    summarise(mean_lum = mean(Luminosity.L.Lo.), \n",
    "              mean_temp = mean(Temperature..K.),\n",
    "              sd_lum = sd(Luminosity.L.Lo.),\n",
    "              sd_temp = sd(Temperature..K.)) %>%\n",
    "    summarise(mean_lum = mean(mean_lum), \n",
    "              mean_temp = mean(mean_temp), \n",
    "              SE_lum = mean(sd_lum), \n",
    "              SE_temp = mean(sd_temp)) %>%\n",
    "    add_column(Type = \"Brown\", .before = \"mean_lum\")\n",
    "\n",
    "red_dwarf_stats <- type_1 %>% \n",
    "    rep_sample_n(size = 40, reps = 1000, replace = TRUE) %>% \n",
    "    group_by(replicate) %>% \n",
    "    summarise(mean_lum = mean(Luminosity.L.Lo.), \n",
    "              mean_temp = mean(Temperature..K.),\n",
    "              sd_lum = sd(Luminosity.L.Lo.),\n",
    "              sd_temp = sd(Temperature..K.)) %>%\n",
    "    summarise(mean_lum = mean(mean_lum), \n",
    "              mean_temp = mean(mean_temp), \n",
    "              SE_lum = mean(sd_lum), \n",
    "              SE_temp = mean(sd_temp)) %>%\n",
    "    add_column(Type = \"Red\", .before = \"mean_lum\")\n",
    "\n",
    "white_dwarf_stats <- type_2 %>% \n",
    "    rep_sample_n(size = 40, reps = 1000, replace = TRUE) %>% \n",
    "    group_by(replicate) %>% \n",
    "    summarise(mean_lum = mean(Luminosity.L.Lo.), \n",
    "              mean_temp = mean(Temperature..K.),\n",
    "              sd_lum = sd(Luminosity.L.Lo.),\n",
    "              sd_temp = sd(Temperature..K.)) %>%\n",
    "    summarise(mean_lum = mean(mean_lum), \n",
    "              mean_temp = mean(mean_temp), \n",
    "              SE_lum = mean(sd_lum), \n",
    "              SE_temp = mean(sd_temp)) %>%\n",
    "    add_column(Type = \"White\", .before = \"mean_lum\")\n",
    "\n",
    "bootstrap_estimates <- rbind(brown_dwarf_stats, red_dwarf_stats, white_dwarf_stats)\n",
    "bootstrap_estimates"
   ]
  },
  {
   "cell_type": "markdown",
   "id": "86341cbc-91cb-4e46-a90f-c50d9f894748",
   "metadata": {},
   "source": [
    "## Methods: Plan"
   ]
  },
  {
   "cell_type": "markdown",
   "id": "51dd33b6-1460-4168-86af-14e3e1ce2689",
   "metadata": {},
   "source": [
    "This report is trustworthy because the dataset that we use is fairly large, so it is potentially of the true population. Therefore the mean estimates that we have calculated can be good starting points to create confidence intervals for our population parameters. While our estimations are a good starting point, they are not enough to present to a stakeholder. The plots would be a better representation if we were to do some further data processing like bootstrapping or asymptotic testing. Additionally there is no way to estimate the sampling variability of the population of stars by examining point estimates of the standard deviation, or the distribution of values of the dataset. \n",
    "\n",
    "In order to address the gap we brought up above, we need to bootstrap to more closely approximate the actual distribution of the population, and by extension find a range of possible parameter estimates as opposed to a point estimate.\n",
    "In the final report, we expect to find whether we are confident to say there is a difference in the luminosity and temperature between dwarf stars. We will express our result and the uncertainty in a trustworthy way. We believe finding this clarifies the difference in some features between different types of dwarf stars, and further increases the accuracy and reliability of star classification. This analysis leads to future questions such as “is there a difference in the magnitude between dwarf stars”. Additionally we can use these results to infer real astronomical observations.\n",
    "\n"
   ]
  },
  {
   "cell_type": "markdown",
   "id": "17449197-872b-4f91-84b5-dbe401c18c0c",
   "metadata": {},
   "source": [
    "# ANOVA"
   ]
  },
  {
   "cell_type": "markdown",
   "id": "e9108c5e-74c5-4d6d-ad84-6f5ac5985834",
   "metadata": {},
   "source": [
    "ANOVA (Analysis of Variance) is a test to determine whether the difference between means across three or more groups exist by analyzing the overall and within-group variance. ANOVA test calculates F-value, which is the ratio of the variability between group means and the variation within groups, and corresponding p-value. If F-value is significantly greater than 1, the p-value is going to be small, we conclude that the variability between group means exists. In this project, since our goal is to analyze the difference between temperature and luminosity of three groups of dwarf planets, ANOVA becomes very appropriate and effective. In this section, we will conduct two ANOVA tests across three dwarf groups on both variables, and analyze the results.\n"
   ]
  },
  {
   "cell_type": "markdown",
   "id": "85817120-4ae7-47fa-89ab-6385fee5583f",
   "metadata": {},
   "source": [
    "### ANOVA for Temperature Across all Three Dwarf Types"
   ]
  },
  {
   "cell_type": "markdown",
   "id": "6ff42d04-34ec-4d22-b609-3847dd0fe252",
   "metadata": {},
   "source": [
    "We start with temperature. Before actually starting the ANOVA test, we need to do a little bit of cleanup, select the columns that we want, which are Star Type and Temperature."
   ]
  },
  {
   "cell_type": "code",
   "execution_count": null,
   "id": "26b3f93e-eae3-4025-a651-840df5eafafa",
   "metadata": {},
   "outputs": [],
   "source": [
    "# filter out the target column Temperature to get the tidy data set\n",
    "dwarfs_temp <- dwarfs %>%\n",
    "               select(Temperature..K., Star.type)\n",
    "head(dwarfs_temp)"
   ]
  },
  {
   "cell_type": "code",
   "execution_count": null,
   "id": "d5cc9ef0-0000-4b68-ad4b-51c4eda0c0d9",
   "metadata": {},
   "outputs": [],
   "source": [
    "# Perform ANOVA test and print the result table\n",
    "anova_temp <- aov(Temperature..K.~Star.type, data = dwarfs_temp)%>%\n",
    "              tidy()\n",
    "print(anova_temp)"
   ]
  },
  {
   "cell_type": "code",
   "execution_count": null,
   "id": "4750d0c8-f241-4fb5-99f5-c8f6f8630228",
   "metadata": {},
   "outputs": [],
   "source": [
    "# Filter out the F-value from the table above\n",
    "# Filter out the p-value from the table above\n",
    "f_stat_temp <- anova_temp %>%\n",
    "          filter(term == \"Star.type\") %>%\n",
    "          select(statistic) %>%\n",
    "          as.numeric()\n",
    "anova_pval_temp <- anova_temp %>%\n",
    "              filter(term == \"Star.type\") %>%\n",
    "              select(p.value) %>%\n",
    "              as.numeric()\n",
    "print(f_stat_temp)\n",
    "print(anova_pval_temp)"
   ]
  },
  {
   "cell_type": "markdown",
   "id": "698f3e51-0faa-4480-b959-61436110908d",
   "metadata": {},
   "source": [
    "The F-value obtained is 188.91, and the p-value is 2.74e-37. In this case, our F-value is significantly greater than 1. Therefore, the variation between group means is clearly larger than the variation within groups, indicating that at least one of the mean value is different across three groups. The p-value also states the result. Since p-value is significantly smaller than the critical value (0.05), it falls in reject region. Therefore, by looking at the ANOVA test for temperature across three groups, we say at least one of the mean value is different across three groups and the temperature of three dwarf groups are not all same."
   ]
  },
  {
   "cell_type": "markdown",
   "id": "b378cabd-29c3-4111-9859-80481f0e2dab",
   "metadata": {},
   "source": [
    "### ANOVA for Luminosity Across all Three Dwarf Types"
   ]
  },
  {
   "cell_type": "code",
   "execution_count": null,
   "id": "f5bac5f3-64dc-4867-953a-f534bdcac32a",
   "metadata": {},
   "outputs": [],
   "source": [
    "# filter out the target column Luminosity to get the tidy data set\n",
    "dwarfs_lumi <- dwarfs %>%\n",
    "               select(Luminosity.L.Lo., Star.type)\n",
    "head(dwarfs_lumi)"
   ]
  },
  {
   "cell_type": "markdown",
   "id": "cfe3667d-9f0a-4f02-b58b-49fa309ef765",
   "metadata": {},
   "source": [
    "In the following two blocks of code, we perform ANOVA test on luminosity across three groups of dwarfs."
   ]
  },
  {
   "cell_type": "code",
   "execution_count": null,
   "id": "48c61c98-e920-4779-9130-da439902a860",
   "metadata": {},
   "outputs": [],
   "source": [
    "# Perform ANOVA test and print the result table\n",
    "anova_lumi <- aov(Luminosity.L.Lo.~Star.type, data = dwarfs_lumi)%>%\n",
    "              tidy()\n",
    "print(anova_lumi)"
   ]
  },
  {
   "cell_type": "code",
   "execution_count": null,
   "id": "4055a26d-c3df-4d8c-be98-4a3332278229",
   "metadata": {},
   "outputs": [],
   "source": [
    "# Filter out the F-value from the table above\n",
    "# Filter out the p-value from the table above\n",
    "f_stat_lumi <- anova_lumi %>%\n",
    "          filter(term == \"Star.type\") %>%\n",
    "          select(statistic) %>%\n",
    "          as.numeric()\n",
    "anova_pval_lumi <- anova_lumi%>%\n",
    "              filter(term == \"Star.type\") %>%\n",
    "              select(p.value) %>%\n",
    "              as.numeric()\n",
    "print(f_stat_lumi)\n",
    "print(anova_pval_lumi)"
   ]
  },
  {
   "cell_type": "markdown",
   "id": "2b610f5e-0507-4ab4-885d-e71f6d295798",
   "metadata": {},
   "source": [
    "The F-value obtained is 5.09, and the p-value is 0.0076. Although we get a much smaller F-value than the F-value in temperature test, it still clearly larger than 1. The p-value is also smaller than the critical value (0.05), and falls in reject region. Although we might say the difference between luminosity across groups is not as significantly as the difference between temperature, we are still confident to say at least one mean value is different from others, and the luminosity of three dwarf groups are not all same."
   ]
  },
  {
   "cell_type": "markdown",
   "id": "7cbc3b18-db18-4294-b74a-c1fcaf06a269",
   "metadata": {},
   "source": [
    "## Citation"
   ]
  },
  {
   "cell_type": "markdown",
   "id": "cf1f797d-36b1-4990-b098-2e67f52a114d",
   "metadata": {},
   "source": [
    "Chiosi, Cesare, Gianpaolo Bertelli, and Alessandro Bressan. \"New developments in understanding the HR diagram.\" Annual review of astronomy and astrophysics 30.1 (1992): 235-285.\n",
    "\n",
    "Koester, Detlev, and Ganesar Chanmugam. \"Physics of white dwarf stars.\" Reports on Progress in Physics 53.7 (1990): 837.\n",
    "\n",
    "Tillman, Nola Taylor, and Ben Biggs. “Main Sequence Stars: Definition & Life Cycle.” Space.com, Space, 26 Jan. 2022, https://www.space.com/22437-main-sequence-star.html. \n",
    "\n",
    "Tillman, Nola Taylor. “Red Dwarfs: The Most Common and Longest-Lived Stars.” Space.com, Space, 6 June 2019, https://www.space.com/23772-red-dwarf-stars.html. "
   ]
  }
 ],
 "metadata": {
  "interpreter": {
   "hash": "a653215ae8f90e0f1006d0e719f32beb52a8f012348c9c864421278df0c233eb"
  },
  "kernelspec": {
   "display_name": "R",
   "language": "R",
   "name": "ir"
  },
  "language_info": {
   "codemirror_mode": "r",
   "file_extension": ".r",
   "mimetype": "text/x-r-source",
   "name": "R",
   "pygments_lexer": "r",
   "version": "4.1.2"
  }
 },
 "nbformat": 4,
 "nbformat_minor": 5
}
