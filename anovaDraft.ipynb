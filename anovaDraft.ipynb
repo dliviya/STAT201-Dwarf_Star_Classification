{
 "cells": [
  {
   "cell_type": "code",
   "execution_count": 1,
   "id": "52a0bee3-b80f-4c7d-8514-7f5c9401019b",
   "metadata": {},
   "outputs": [
    {
     "name": "stderr",
     "output_type": "stream",
     "text": [
      "Installing package into ‘/home/jupyter/R/x86_64-pc-linux-gnu-library/4.1’\n",
      "(as ‘lib’ is unspecified)\n",
      "\n",
      "Warning message:\n",
      "“package ‘datateachr’ is not available for this version of R\n",
      "\n",
      "A version of this package for your version of R might be available elsewhere,\n",
      "see the ideas at\n",
      "https://cran.r-project.org/doc/manuals/r-patched/R-admin.html#Installing-packages”\n",
      "Warning message in system(\"timedatectl\", intern = TRUE):\n",
      "“running command 'timedatectl' had status 1”\n",
      "── \u001b[1mAttaching packages\u001b[22m ─────────────────────────────────────── tidyverse 1.3.1 ──\n",
      "\n",
      "\u001b[32m✔\u001b[39m \u001b[34mggplot2\u001b[39m 3.3.5     \u001b[32m✔\u001b[39m \u001b[34mpurrr  \u001b[39m 0.3.4\n",
      "\u001b[32m✔\u001b[39m \u001b[34mtibble \u001b[39m 3.1.6     \u001b[32m✔\u001b[39m \u001b[34mdplyr  \u001b[39m 1.0.7\n",
      "\u001b[32m✔\u001b[39m \u001b[34mtidyr  \u001b[39m 1.2.0     \u001b[32m✔\u001b[39m \u001b[34mstringr\u001b[39m 1.4.0\n",
      "\u001b[32m✔\u001b[39m \u001b[34mreadr  \u001b[39m 2.1.2     \u001b[32m✔\u001b[39m \u001b[34mforcats\u001b[39m 0.5.1\n",
      "\n",
      "── \u001b[1mConflicts\u001b[22m ────────────────────────────────────────── tidyverse_conflicts() ──\n",
      "\u001b[31m✖\u001b[39m \u001b[34mdplyr\u001b[39m::\u001b[32mfilter()\u001b[39m masks \u001b[34mstats\u001b[39m::filter()\n",
      "\u001b[31m✖\u001b[39m \u001b[34mdplyr\u001b[39m::\u001b[32mlag()\u001b[39m    masks \u001b[34mstats\u001b[39m::lag()\n",
      "\n",
      "\n",
      "Attaching package: ‘gridExtra’\n",
      "\n",
      "\n",
      "The following object is masked from ‘package:dplyr’:\n",
      "\n",
      "    combine\n",
      "\n",
      "\n",
      "\n",
      "Attaching package: ‘testthat’\n",
      "\n",
      "\n",
      "The following object is masked from ‘package:dplyr’:\n",
      "\n",
      "    matches\n",
      "\n",
      "\n",
      "The following object is masked from ‘package:purrr’:\n",
      "\n",
      "    is_null\n",
      "\n",
      "\n",
      "The following objects are masked from ‘package:readr’:\n",
      "\n",
      "    edition_get, local_edition\n",
      "\n",
      "\n",
      "The following object is masked from ‘package:tidyr’:\n",
      "\n",
      "    matches\n",
      "\n",
      "\n"
     ]
    }
   ],
   "source": [
    "install.packages(\"datateachr\")\n",
    "library(tidyverse)\n",
    "library(infer)\n",
    "library(gridExtra)\n",
    "library(testthat)\n",
    "library(digest)\n",
    "library(broom)"
   ]
  },
  {
   "cell_type": "code",
   "execution_count": 2,
   "id": "45ee4355-51e7-4835-ba25-9a55b6eb9a5d",
   "metadata": {},
   "outputs": [
    {
     "data": {
      "text/html": [
       "<table class=\"dataframe\">\n",
       "<caption>A data.frame: 6 × 7</caption>\n",
       "<thead>\n",
       "\t<tr><th></th><th scope=col>Temperature..K.</th><th scope=col>Luminosity.L.Lo.</th><th scope=col>Radius.R.Ro.</th><th scope=col>Absolute.magnitude.Mv.</th><th scope=col>Star.type</th><th scope=col>Star.color</th><th scope=col>Spectral.Class</th></tr>\n",
       "\t<tr><th></th><th scope=col>&lt;int&gt;</th><th scope=col>&lt;dbl&gt;</th><th scope=col>&lt;dbl&gt;</th><th scope=col>&lt;dbl&gt;</th><th scope=col>&lt;int&gt;</th><th scope=col>&lt;chr&gt;</th><th scope=col>&lt;chr&gt;</th></tr>\n",
       "</thead>\n",
       "<tbody>\n",
       "\t<tr><th scope=row>1</th><td>3068</td><td>0.002400</td><td>0.1700</td><td>16.12</td><td>0</td><td>Red</td><td>M</td></tr>\n",
       "\t<tr><th scope=row>2</th><td>3042</td><td>0.000500</td><td>0.1542</td><td>16.60</td><td>0</td><td>Red</td><td>M</td></tr>\n",
       "\t<tr><th scope=row>3</th><td>2600</td><td>0.000300</td><td>0.1020</td><td>18.70</td><td>0</td><td>Red</td><td>M</td></tr>\n",
       "\t<tr><th scope=row>4</th><td>2800</td><td>0.000200</td><td>0.1600</td><td>16.65</td><td>0</td><td>Red</td><td>M</td></tr>\n",
       "\t<tr><th scope=row>5</th><td>1939</td><td>0.000138</td><td>0.1030</td><td>20.06</td><td>0</td><td>Red</td><td>M</td></tr>\n",
       "\t<tr><th scope=row>6</th><td>2840</td><td>0.000650</td><td>0.1100</td><td>16.98</td><td>0</td><td>Red</td><td>M</td></tr>\n",
       "</tbody>\n",
       "</table>\n"
      ],
      "text/latex": [
       "A data.frame: 6 × 7\n",
       "\\begin{tabular}{r|lllllll}\n",
       "  & Temperature..K. & Luminosity.L.Lo. & Radius.R.Ro. & Absolute.magnitude.Mv. & Star.type & Star.color & Spectral.Class\\\\\n",
       "  & <int> & <dbl> & <dbl> & <dbl> & <int> & <chr> & <chr>\\\\\n",
       "\\hline\n",
       "\t1 & 3068 & 0.002400 & 0.1700 & 16.12 & 0 & Red & M\\\\\n",
       "\t2 & 3042 & 0.000500 & 0.1542 & 16.60 & 0 & Red & M\\\\\n",
       "\t3 & 2600 & 0.000300 & 0.1020 & 18.70 & 0 & Red & M\\\\\n",
       "\t4 & 2800 & 0.000200 & 0.1600 & 16.65 & 0 & Red & M\\\\\n",
       "\t5 & 1939 & 0.000138 & 0.1030 & 20.06 & 0 & Red & M\\\\\n",
       "\t6 & 2840 & 0.000650 & 0.1100 & 16.98 & 0 & Red & M\\\\\n",
       "\\end{tabular}\n"
      ],
      "text/markdown": [
       "\n",
       "A data.frame: 6 × 7\n",
       "\n",
       "| <!--/--> | Temperature..K. &lt;int&gt; | Luminosity.L.Lo. &lt;dbl&gt; | Radius.R.Ro. &lt;dbl&gt; | Absolute.magnitude.Mv. &lt;dbl&gt; | Star.type &lt;int&gt; | Star.color &lt;chr&gt; | Spectral.Class &lt;chr&gt; |\n",
       "|---|---|---|---|---|---|---|---|\n",
       "| 1 | 3068 | 0.002400 | 0.1700 | 16.12 | 0 | Red | M |\n",
       "| 2 | 3042 | 0.000500 | 0.1542 | 16.60 | 0 | Red | M |\n",
       "| 3 | 2600 | 0.000300 | 0.1020 | 18.70 | 0 | Red | M |\n",
       "| 4 | 2800 | 0.000200 | 0.1600 | 16.65 | 0 | Red | M |\n",
       "| 5 | 1939 | 0.000138 | 0.1030 | 20.06 | 0 | Red | M |\n",
       "| 6 | 2840 | 0.000650 | 0.1100 | 16.98 | 0 | Red | M |\n",
       "\n"
      ],
      "text/plain": [
       "  Temperature..K. Luminosity.L.Lo. Radius.R.Ro. Absolute.magnitude.Mv.\n",
       "1 3068            0.002400         0.1700       16.12                 \n",
       "2 3042            0.000500         0.1542       16.60                 \n",
       "3 2600            0.000300         0.1020       18.70                 \n",
       "4 2800            0.000200         0.1600       16.65                 \n",
       "5 1939            0.000138         0.1030       20.06                 \n",
       "6 2840            0.000650         0.1100       16.98                 \n",
       "  Star.type Star.color Spectral.Class\n",
       "1 0         Red        M             \n",
       "2 0         Red        M             \n",
       "3 0         Red        M             \n",
       "4 0         Red        M             \n",
       "5 0         Red        M             \n",
       "6 0         Red        M             "
      ]
     },
     "metadata": {},
     "output_type": "display_data"
    }
   ],
   "source": [
    "stars <- read.csv(\"6-class.csv\")\n",
    "\n",
    "head(stars)"
   ]
  },
  {
   "cell_type": "code",
   "execution_count": 20,
   "id": "093139c4-c4e7-4c87-ba7c-60d49444f491",
   "metadata": {},
   "outputs": [
    {
     "data": {
      "text/html": [
       "<table class=\"dataframe\">\n",
       "<caption>A data.frame: 6 × 7</caption>\n",
       "<thead>\n",
       "\t<tr><th></th><th scope=col>Temperature..K.</th><th scope=col>Luminosity.L.Lo.</th><th scope=col>Radius.R.Ro.</th><th scope=col>Absolute.magnitude.Mv.</th><th scope=col>Star.type</th><th scope=col>Star.color</th><th scope=col>Spectral.Class</th></tr>\n",
       "\t<tr><th></th><th scope=col>&lt;int&gt;</th><th scope=col>&lt;dbl&gt;</th><th scope=col>&lt;dbl&gt;</th><th scope=col>&lt;dbl&gt;</th><th scope=col>&lt;fct&gt;</th><th scope=col>&lt;chr&gt;</th><th scope=col>&lt;chr&gt;</th></tr>\n",
       "</thead>\n",
       "<tbody>\n",
       "\t<tr><th scope=row>1</th><td>3068</td><td>0.002400</td><td>0.1700</td><td>16.12</td><td>0</td><td>Red</td><td>M</td></tr>\n",
       "\t<tr><th scope=row>2</th><td>3042</td><td>0.000500</td><td>0.1542</td><td>16.60</td><td>0</td><td>Red</td><td>M</td></tr>\n",
       "\t<tr><th scope=row>3</th><td>2600</td><td>0.000300</td><td>0.1020</td><td>18.70</td><td>0</td><td>Red</td><td>M</td></tr>\n",
       "\t<tr><th scope=row>4</th><td>2800</td><td>0.000200</td><td>0.1600</td><td>16.65</td><td>0</td><td>Red</td><td>M</td></tr>\n",
       "\t<tr><th scope=row>5</th><td>1939</td><td>0.000138</td><td>0.1030</td><td>20.06</td><td>0</td><td>Red</td><td>M</td></tr>\n",
       "\t<tr><th scope=row>6</th><td>2840</td><td>0.000650</td><td>0.1100</td><td>16.98</td><td>0</td><td>Red</td><td>M</td></tr>\n",
       "</tbody>\n",
       "</table>\n"
      ],
      "text/latex": [
       "A data.frame: 6 × 7\n",
       "\\begin{tabular}{r|lllllll}\n",
       "  & Temperature..K. & Luminosity.L.Lo. & Radius.R.Ro. & Absolute.magnitude.Mv. & Star.type & Star.color & Spectral.Class\\\\\n",
       "  & <int> & <dbl> & <dbl> & <dbl> & <fct> & <chr> & <chr>\\\\\n",
       "\\hline\n",
       "\t1 & 3068 & 0.002400 & 0.1700 & 16.12 & 0 & Red & M\\\\\n",
       "\t2 & 3042 & 0.000500 & 0.1542 & 16.60 & 0 & Red & M\\\\\n",
       "\t3 & 2600 & 0.000300 & 0.1020 & 18.70 & 0 & Red & M\\\\\n",
       "\t4 & 2800 & 0.000200 & 0.1600 & 16.65 & 0 & Red & M\\\\\n",
       "\t5 & 1939 & 0.000138 & 0.1030 & 20.06 & 0 & Red & M\\\\\n",
       "\t6 & 2840 & 0.000650 & 0.1100 & 16.98 & 0 & Red & M\\\\\n",
       "\\end{tabular}\n"
      ],
      "text/markdown": [
       "\n",
       "A data.frame: 6 × 7\n",
       "\n",
       "| <!--/--> | Temperature..K. &lt;int&gt; | Luminosity.L.Lo. &lt;dbl&gt; | Radius.R.Ro. &lt;dbl&gt; | Absolute.magnitude.Mv. &lt;dbl&gt; | Star.type &lt;fct&gt; | Star.color &lt;chr&gt; | Spectral.Class &lt;chr&gt; |\n",
       "|---|---|---|---|---|---|---|---|\n",
       "| 1 | 3068 | 0.002400 | 0.1700 | 16.12 | 0 | Red | M |\n",
       "| 2 | 3042 | 0.000500 | 0.1542 | 16.60 | 0 | Red | M |\n",
       "| 3 | 2600 | 0.000300 | 0.1020 | 18.70 | 0 | Red | M |\n",
       "| 4 | 2800 | 0.000200 | 0.1600 | 16.65 | 0 | Red | M |\n",
       "| 5 | 1939 | 0.000138 | 0.1030 | 20.06 | 0 | Red | M |\n",
       "| 6 | 2840 | 0.000650 | 0.1100 | 16.98 | 0 | Red | M |\n",
       "\n"
      ],
      "text/plain": [
       "  Temperature..K. Luminosity.L.Lo. Radius.R.Ro. Absolute.magnitude.Mv.\n",
       "1 3068            0.002400         0.1700       16.12                 \n",
       "2 3042            0.000500         0.1542       16.60                 \n",
       "3 2600            0.000300         0.1020       18.70                 \n",
       "4 2800            0.000200         0.1600       16.65                 \n",
       "5 1939            0.000138         0.1030       20.06                 \n",
       "6 2840            0.000650         0.1100       16.98                 \n",
       "  Star.type Star.color Spectral.Class\n",
       "1 0         Red        M             \n",
       "2 0         Red        M             \n",
       "3 0         Red        M             \n",
       "4 0         Red        M             \n",
       "5 0         Red        M             \n",
       "6 0         Red        M             "
      ]
     },
     "metadata": {},
     "output_type": "display_data"
    }
   ],
   "source": [
    "stars <- mutate(stars, Star.type = as_factor(Star.type))\n",
    "dwarfs <- stars %>%\n",
    "filter(Star.type != 5) %>%\n",
    "filter(Star.type != 4) %>%\n",
    "filter(Star.type != 3)\n",
    "\n",
    "head(dwarfs)"
   ]
  },
  {
   "cell_type": "markdown",
   "id": "83f7445e-d09c-4001-bae9-a510e519b3cd",
   "metadata": {},
   "source": [
    "# ANOVA"
   ]
  },
  {
   "cell_type": "markdown",
   "id": "b444cd7f-7731-4c55-9a20-68f13b4a11e3",
   "metadata": {},
   "source": [
    "ANOVA (Analysis of Variance) is a test to determine whether the difference between means across three or more groups exist by analyzing the overall and within-group variance. ANOVA test calculates F-value, which is the ratio of the variability between group means and the variation within groups, and corresponding p-value. If F-value is significantly greater than 1, the p-value is going to be small, we conclude that the variability between group means exists. In this project, since our goal is to analyze the difference between temperature and luminosity of three groups of dwarf planets, ANOVA becomes very appropriate and effective. In this section, we will conduct two ANOVA tests across three dwarf groups on both variables, and analyze the results."
   ]
  },
  {
   "cell_type": "markdown",
   "id": "2d4afb70-ee98-4e0d-8aed-7815e5a15af4",
   "metadata": {},
   "source": [
    "### ANOVA for Temperature Across all Three Dwarf Types"
   ]
  },
  {
   "cell_type": "markdown",
   "id": "e925b81e-f08f-4820-a517-909e5be8241d",
   "metadata": {},
   "source": [
    "We start with temperature. Before actually starting the ANOVA test, we need to do a little bit of cleanup, select the columns that we want, which are Star Type and Temperature."
   ]
  },
  {
   "cell_type": "code",
   "execution_count": 4,
   "id": "716dbfcc-1734-4ca5-ac26-b81d294a4224",
   "metadata": {
    "tags": []
   },
   "outputs": [
    {
     "data": {
      "text/html": [
       "<table class=\"dataframe\">\n",
       "<caption>A data.frame: 6 × 2</caption>\n",
       "<thead>\n",
       "\t<tr><th></th><th scope=col>Temperature..K.</th><th scope=col>Star.type</th></tr>\n",
       "\t<tr><th></th><th scope=col>&lt;int&gt;</th><th scope=col>&lt;fct&gt;</th></tr>\n",
       "</thead>\n",
       "<tbody>\n",
       "\t<tr><th scope=row>1</th><td>3068</td><td>0</td></tr>\n",
       "\t<tr><th scope=row>2</th><td>3042</td><td>0</td></tr>\n",
       "\t<tr><th scope=row>3</th><td>2600</td><td>0</td></tr>\n",
       "\t<tr><th scope=row>4</th><td>2800</td><td>0</td></tr>\n",
       "\t<tr><th scope=row>5</th><td>1939</td><td>0</td></tr>\n",
       "\t<tr><th scope=row>6</th><td>2840</td><td>0</td></tr>\n",
       "</tbody>\n",
       "</table>\n"
      ],
      "text/latex": [
       "A data.frame: 6 × 2\n",
       "\\begin{tabular}{r|ll}\n",
       "  & Temperature..K. & Star.type\\\\\n",
       "  & <int> & <fct>\\\\\n",
       "\\hline\n",
       "\t1 & 3068 & 0\\\\\n",
       "\t2 & 3042 & 0\\\\\n",
       "\t3 & 2600 & 0\\\\\n",
       "\t4 & 2800 & 0\\\\\n",
       "\t5 & 1939 & 0\\\\\n",
       "\t6 & 2840 & 0\\\\\n",
       "\\end{tabular}\n"
      ],
      "text/markdown": [
       "\n",
       "A data.frame: 6 × 2\n",
       "\n",
       "| <!--/--> | Temperature..K. &lt;int&gt; | Star.type &lt;fct&gt; |\n",
       "|---|---|---|\n",
       "| 1 | 3068 | 0 |\n",
       "| 2 | 3042 | 0 |\n",
       "| 3 | 2600 | 0 |\n",
       "| 4 | 2800 | 0 |\n",
       "| 5 | 1939 | 0 |\n",
       "| 6 | 2840 | 0 |\n",
       "\n"
      ],
      "text/plain": [
       "  Temperature..K. Star.type\n",
       "1 3068            0        \n",
       "2 3042            0        \n",
       "3 2600            0        \n",
       "4 2800            0        \n",
       "5 1939            0        \n",
       "6 2840            0        "
      ]
     },
     "metadata": {},
     "output_type": "display_data"
    }
   ],
   "source": [
    "# filter out the target column Temperature to get the tidy data set\n",
    "dwarfs_temp <- dwarfs %>%\n",
    "               select(Temperature..K., Star.type)\n",
    "head(dwarfs_temp)"
   ]
  },
  {
   "cell_type": "markdown",
   "id": "cd0e2078-48c3-4dde-83d4-24299fb4adbd",
   "metadata": {},
   "source": [
    "In the following two blocks of code, we perform ANOVA test on temperature across three groups of dwarfs."
   ]
  },
  {
   "cell_type": "code",
   "execution_count": 12,
   "id": "835046ed-768e-4bc8-82c1-4e356caf928a",
   "metadata": {},
   "outputs": [
    {
     "name": "stdout",
     "output_type": "stream",
     "text": [
      "\u001b[90m# A tibble: 2 × 6\u001b[39m\n",
      "  term         df       sumsq      meansq statistic   p.value\n",
      "  \u001b[3m\u001b[90m<chr>\u001b[39m\u001b[23m     \u001b[3m\u001b[90m<dbl>\u001b[39m\u001b[23m       \u001b[3m\u001b[90m<dbl>\u001b[39m\u001b[23m       \u001b[3m\u001b[90m<dbl>\u001b[39m\u001b[23m     \u001b[3m\u001b[90m<dbl>\u001b[39m\u001b[23m     \u001b[3m\u001b[90m<dbl>\u001b[39m\u001b[23m\n",
      "\u001b[90m1\u001b[39m Star.type     2 \u001b[4m3\u001b[24m106\u001b[4m6\u001b[24m\u001b[4m0\u001b[24m\u001b[4m0\u001b[24m865. \u001b[4m1\u001b[24m553\u001b[4m3\u001b[24m\u001b[4m0\u001b[24m\u001b[4m0\u001b[24m433.      188.  2.74\u001b[90me\u001b[39m\u001b[31m-37\u001b[39m\n",
      "\u001b[90m2\u001b[39m Residuals   117  965\u001b[4m6\u001b[24m\u001b[4m9\u001b[24m\u001b[4m6\u001b[24m814.    8\u001b[4m2\u001b[24m\u001b[4m5\u001b[24m\u001b[4m3\u001b[24m819.       \u001b[31mNA\u001b[39m  \u001b[31mNA\u001b[39m   \u001b[90m \u001b[39m   \n"
     ]
    }
   ],
   "source": [
    "# Perform ANOVA test and print the result table\n",
    "anova_temp <- aov(Temperature..K.~Star.type, data = dwarfs_temp)%>%\n",
    "              tidy()\n",
    "print(anova_temp)"
   ]
  },
  {
   "cell_type": "code",
   "execution_count": 24,
   "id": "5e984453-f557-4f05-82db-41cca19f1828",
   "metadata": {},
   "outputs": [
    {
     "name": "stdout",
     "output_type": "stream",
     "text": [
      "[1] 188.1917\n",
      "[1] 2.738892e-37\n"
     ]
    }
   ],
   "source": [
    "# Filter out the F-value from the table above\n",
    "# Filter out the p-value from the table above\n",
    "f_stat_temp <- anova_temp %>%\n",
    "          filter(term == \"Star.type\") %>%\n",
    "          select(statistic) %>%\n",
    "          as.numeric()\n",
    "anova_pval_temp <- anova_temp %>%\n",
    "              filter(term == \"Star.type\") %>%\n",
    "              select(p.value) %>%\n",
    "              as.numeric()\n",
    "print(f_stat_temp)\n",
    "print(anova_pval_temp)"
   ]
  },
  {
   "cell_type": "markdown",
   "id": "224128d0-3bcd-4da8-acf6-0e5cbf2cd958",
   "metadata": {},
   "source": [
    "The F-value obtained is 188.91, and the p-value is 2.74e-37. In this case, our F-value is significantly greater than 1. Therefore, the variation between group means is clearly larger than the variation within groups, indicating that at least one of the mean value is different across three groups. The p-value also states the result. Since p-value is significantly smaller than the critical value (0.05), it falls in reject region. Therefore, by looking at the ANOVA test for temperature across three groups, we say at least one of the mean value is different across three groups and the temperature of three dwarf groups are not all same."
   ]
  },
  {
   "cell_type": "markdown",
   "id": "537d2258-1198-449c-b36f-b3960c6c8d5f",
   "metadata": {},
   "source": [
    "### ANOVA for Luminosity Across all Three Dwarf Types"
   ]
  },
  {
   "cell_type": "markdown",
   "id": "6d25c89d-5cd2-4747-93c9-0ea0b6dc1c04",
   "metadata": {},
   "source": [
    "We perform ANOVA test for luminosity in the following section. First, we select the target columns."
   ]
  },
  {
   "cell_type": "code",
   "execution_count": 14,
   "id": "683b3180-8070-40a2-909f-d0e225b8f520",
   "metadata": {},
   "outputs": [
    {
     "data": {
      "text/html": [
       "<table class=\"dataframe\">\n",
       "<caption>A data.frame: 6 × 2</caption>\n",
       "<thead>\n",
       "\t<tr><th></th><th scope=col>Luminosity.L.Lo.</th><th scope=col>Star.type</th></tr>\n",
       "\t<tr><th></th><th scope=col>&lt;dbl&gt;</th><th scope=col>&lt;fct&gt;</th></tr>\n",
       "</thead>\n",
       "<tbody>\n",
       "\t<tr><th scope=row>1</th><td>0.002400</td><td>0</td></tr>\n",
       "\t<tr><th scope=row>2</th><td>0.000500</td><td>0</td></tr>\n",
       "\t<tr><th scope=row>3</th><td>0.000300</td><td>0</td></tr>\n",
       "\t<tr><th scope=row>4</th><td>0.000200</td><td>0</td></tr>\n",
       "\t<tr><th scope=row>5</th><td>0.000138</td><td>0</td></tr>\n",
       "\t<tr><th scope=row>6</th><td>0.000650</td><td>0</td></tr>\n",
       "</tbody>\n",
       "</table>\n"
      ],
      "text/latex": [
       "A data.frame: 6 × 2\n",
       "\\begin{tabular}{r|ll}\n",
       "  & Luminosity.L.Lo. & Star.type\\\\\n",
       "  & <dbl> & <fct>\\\\\n",
       "\\hline\n",
       "\t1 & 0.002400 & 0\\\\\n",
       "\t2 & 0.000500 & 0\\\\\n",
       "\t3 & 0.000300 & 0\\\\\n",
       "\t4 & 0.000200 & 0\\\\\n",
       "\t5 & 0.000138 & 0\\\\\n",
       "\t6 & 0.000650 & 0\\\\\n",
       "\\end{tabular}\n"
      ],
      "text/markdown": [
       "\n",
       "A data.frame: 6 × 2\n",
       "\n",
       "| <!--/--> | Luminosity.L.Lo. &lt;dbl&gt; | Star.type &lt;fct&gt; |\n",
       "|---|---|---|\n",
       "| 1 | 0.002400 | 0 |\n",
       "| 2 | 0.000500 | 0 |\n",
       "| 3 | 0.000300 | 0 |\n",
       "| 4 | 0.000200 | 0 |\n",
       "| 5 | 0.000138 | 0 |\n",
       "| 6 | 0.000650 | 0 |\n",
       "\n"
      ],
      "text/plain": [
       "  Luminosity.L.Lo. Star.type\n",
       "1 0.002400         0        \n",
       "2 0.000500         0        \n",
       "3 0.000300         0        \n",
       "4 0.000200         0        \n",
       "5 0.000138         0        \n",
       "6 0.000650         0        "
      ]
     },
     "metadata": {},
     "output_type": "display_data"
    }
   ],
   "source": [
    "# filter out the target column Luminosity to get the tidy data set\n",
    "dwarfs_lumi <- dwarfs %>%\n",
    "               select(Luminosity.L.Lo., Star.type)\n",
    "head(dwarfs_lumi)"
   ]
  },
  {
   "cell_type": "markdown",
   "id": "bd4792a3-cfa3-4f3e-88dd-6700f043e7cc",
   "metadata": {},
   "source": [
    "In the following two blocks of code, we perform ANOVA test on luminosity across three groups of dwarfs."
   ]
  },
  {
   "cell_type": "code",
   "execution_count": 18,
   "id": "2aa1a16e-b0cb-462a-b606-6f52a09dce0b",
   "metadata": {},
   "outputs": [
    {
     "name": "stdout",
     "output_type": "stream",
     "text": [
      "\u001b[90m# A tibble: 2 × 6\u001b[39m\n",
      "  term         df    sumsq    meansq statistic  p.value\n",
      "  \u001b[3m\u001b[90m<chr>\u001b[39m\u001b[23m     \u001b[3m\u001b[90m<dbl>\u001b[39m\u001b[23m    \u001b[3m\u001b[90m<dbl>\u001b[39m\u001b[23m     \u001b[3m\u001b[90m<dbl>\u001b[39m\u001b[23m     \u001b[3m\u001b[90m<dbl>\u001b[39m\u001b[23m    \u001b[3m\u001b[90m<dbl>\u001b[39m\u001b[23m\n",
      "\u001b[90m1\u001b[39m Star.type     2 0.000\u001b[4m4\u001b[24m\u001b[4m5\u001b[24m\u001b[4m4\u001b[24m 0.000\u001b[4m2\u001b[24m\u001b[4m2\u001b[24m\u001b[4m7\u001b[24m       5.09  0.007\u001b[4m6\u001b[24m\u001b[4m1\u001b[24m\n",
      "\u001b[90m2\u001b[39m Residuals   117 0.005\u001b[4m2\u001b[24m\u001b[4m2\u001b[24m  0.000\u001b[4m0\u001b[24m\u001b[4m4\u001b[24m\u001b[4m4\u001b[24m7     \u001b[31mNA\u001b[39m    \u001b[31mNA\u001b[39m      \n"
     ]
    }
   ],
   "source": [
    "# Perform ANOVA test and print the result table\n",
    "anova_lumi <- aov(Luminosity.L.Lo.~Star.type, data = dwarfs_lumi)%>%\n",
    "              tidy()\n",
    "print(anova_lumi)"
   ]
  },
  {
   "cell_type": "code",
   "execution_count": 19,
   "id": "6e1fbc1b-e724-47d8-bb90-78d9cdbc0adc",
   "metadata": {},
   "outputs": [
    {
     "name": "stdout",
     "output_type": "stream",
     "text": [
      "[1] 5.086809\n",
      "[1] 0.007614593\n"
     ]
    }
   ],
   "source": [
    "# Filter out the F-value from the table above\n",
    "# Filter out the p-value from the table above\n",
    "f_stat_lumi <- anova_lumi %>%\n",
    "          filter(term == \"Star.type\") %>%\n",
    "          select(statistic) %>%\n",
    "          as.numeric()\n",
    "anova_pval_lumi <- anova_lumi%>%\n",
    "              filter(term == \"Star.type\") %>%\n",
    "              select(p.value) %>%\n",
    "              as.numeric()\n",
    "print(f_stat_lumi)\n",
    "print(anova_pval_lumi)"
   ]
  },
  {
   "cell_type": "markdown",
   "id": "1dc3ea57-6f2a-448e-8a7c-4716bc7fa429",
   "metadata": {},
   "source": [
    "The F-value obtained is 5.09, and the p-value is 0.0076. Although we get a much smaller F-value than the F-value in temperature test, it still clearly larger than 1. The p-value is also smaller than the critical value (0.05), and falls in reject region. Although we might say the difference between luminosity across groups is not as significantly as the difference between temperature, we are still confident to say at least one mean value is different from others, and the luminosity of three dwarf groups are not all same."
   ]
  },
  {
   "cell_type": "markdown",
   "id": "bec19e14-8248-43dc-9973-1548df4a8e52",
   "metadata": {},
   "source": [
    "# Citation"
   ]
  },
  {
   "cell_type": "markdown",
   "id": "e6471b86-7551-4adf-86e9-891229e75cb8",
   "metadata": {},
   "source": [
    "Zach. (2021, May 11). What does a high F value mean in ANOVA? Statology. Retrieved April 4, 2022, from https://www.statology.org/what-does-a-high-f-value-mean"
   ]
  },
  {
   "cell_type": "code",
   "execution_count": null,
   "id": "3166ccea-dd44-4f7e-823b-c7ab6ba6ccdb",
   "metadata": {},
   "outputs": [],
   "source": []
  },
  {
   "cell_type": "markdown",
   "id": "13a2f436-6a58-47c6-a54c-36d144b262c4",
   "metadata": {},
   "source": [
    "# Might not be useful"
   ]
  },
  {
   "cell_type": "markdown",
   "id": "9166cb5a-74bf-4915-9833-c8eeb9621d60",
   "metadata": {},
   "source": [
    "Before actually starting the ANOVA test, we will start with a general analysis of variance. In this section, we calculate the ratio between the overall variance across three groups and the average of each within-group variances. If there is a significant difference between the two numbers, it should give us a rough idea that the average temperature of the three dwarf planets might be different."
   ]
  },
  {
   "cell_type": "code",
   "execution_count": 22,
   "id": "4c4907dc-6beb-467c-8553-c03330b61474",
   "metadata": {},
   "outputs": [
    {
     "data": {
      "text/html": [
       "<table class=\"dataframe\">\n",
       "<caption>A tibble: 3 × 2</caption>\n",
       "<thead>\n",
       "\t<tr><th scope=col>Star.type</th><th scope=col>variance</th></tr>\n",
       "\t<tr><th scope=col>&lt;fct&gt;</th><th scope=col>&lt;dbl&gt;</th></tr>\n",
       "</thead>\n",
       "<tbody>\n",
       "\t<tr><td>0</td><td>  110407.54</td></tr>\n",
       "\t<tr><td>1</td><td>   72704.25</td></tr>\n",
       "\t<tr><td>2</td><td>24578344.97</td></tr>\n",
       "</tbody>\n",
       "</table>\n"
      ],
      "text/latex": [
       "A tibble: 3 × 2\n",
       "\\begin{tabular}{ll}\n",
       " Star.type & variance\\\\\n",
       " <fct> & <dbl>\\\\\n",
       "\\hline\n",
       "\t 0 &   110407.54\\\\\n",
       "\t 1 &    72704.25\\\\\n",
       "\t 2 & 24578344.97\\\\\n",
       "\\end{tabular}\n"
      ],
      "text/markdown": [
       "\n",
       "A tibble: 3 × 2\n",
       "\n",
       "| Star.type &lt;fct&gt; | variance &lt;dbl&gt; |\n",
       "|---|---|\n",
       "| 0 |   110407.54 |\n",
       "| 1 |    72704.25 |\n",
       "| 2 | 24578344.97 |\n",
       "\n"
      ],
      "text/plain": [
       "  Star.type variance   \n",
       "1 0           110407.54\n",
       "2 1            72704.25\n",
       "3 2         24578344.97"
      ]
     },
     "metadata": {},
     "output_type": "display_data"
    }
   ],
   "source": [
    "# Calculate the within-group variance of temperature for each star type\n",
    "variance_temp <- \n",
    "    dwarfs_temp %>%\n",
    "    group_by(Star.type)%>%\n",
    "    summarise(variance = var(Temperature..K.))\n",
    "\n",
    "variance_temp"
   ]
  },
  {
   "cell_type": "code",
   "execution_count": 23,
   "id": "fd1ea7ed-88cd-4ebb-9eff-6816e96be53b",
   "metadata": {},
   "outputs": [
    {
     "data": {
      "text/html": [
       "4.14607943705567"
      ],
      "text/latex": [
       "4.14607943705567"
      ],
      "text/markdown": [
       "4.14607943705567"
      ],
      "text/plain": [
       "[1] 4.146079"
      ]
     },
     "metadata": {},
     "output_type": "display_data"
    }
   ],
   "source": [
    "# Calculate the overall variance of temperature across groups\n",
    "# Calculate the average of each within-group variance of temeprature\n",
    "# Calculate the ratio between two above data\n",
    "variance_overall_temp <- \n",
    "    dwarfs_temp %>% \n",
    "    summarise(overall_var = var(Temperature..K.)) %>% \n",
    "    pull(overall_var)\n",
    "\n",
    "variance_group_avg_temp <- \n",
    "    variance_temp%>%\n",
    "    summarise(group_var_avg = mean(variance)) %>%\n",
    "    pull(group_var_avg)\n",
    "\n",
    "variance_ratio_temp <- variance_overall_temp/variance_group_avg_temp\n",
    "\n",
    "variance_ratio_temp"
   ]
  },
  {
   "cell_type": "code",
   "execution_count": 25,
   "id": "85a48cd1-466e-4e80-aee0-ac04e3c7231b",
   "metadata": {},
   "outputs": [
    {
     "data": {
      "text/html": [
       "<table class=\"dataframe\">\n",
       "<caption>A tibble: 3 × 2</caption>\n",
       "<thead>\n",
       "\t<tr><th scope=col>Star.type</th><th scope=col>variance</th></tr>\n",
       "\t<tr><th scope=col>&lt;fct&gt;</th><th scope=col>&lt;dbl&gt;</th></tr>\n",
       "</thead>\n",
       "<tbody>\n",
       "\t<tr><td>0</td><td>7.883766e-07</td></tr>\n",
       "\t<tr><td>1</td><td>5.373242e-05</td></tr>\n",
       "\t<tr><td>2</td><td>7.943258e-05</td></tr>\n",
       "</tbody>\n",
       "</table>\n"
      ],
      "text/latex": [
       "A tibble: 3 × 2\n",
       "\\begin{tabular}{ll}\n",
       " Star.type & variance\\\\\n",
       " <fct> & <dbl>\\\\\n",
       "\\hline\n",
       "\t 0 & 7.883766e-07\\\\\n",
       "\t 1 & 5.373242e-05\\\\\n",
       "\t 2 & 7.943258e-05\\\\\n",
       "\\end{tabular}\n"
      ],
      "text/markdown": [
       "\n",
       "A tibble: 3 × 2\n",
       "\n",
       "| Star.type &lt;fct&gt; | variance &lt;dbl&gt; |\n",
       "|---|---|\n",
       "| 0 | 7.883766e-07 |\n",
       "| 1 | 5.373242e-05 |\n",
       "| 2 | 7.943258e-05 |\n",
       "\n"
      ],
      "text/plain": [
       "  Star.type variance    \n",
       "1 0         7.883766e-07\n",
       "2 1         5.373242e-05\n",
       "3 2         7.943258e-05"
      ]
     },
     "metadata": {},
     "output_type": "display_data"
    }
   ],
   "source": [
    "variance_lumi <- \n",
    "    dwarfs_lumi %>%\n",
    "    group_by(Star.type)%>%\n",
    "    summarise(variance = var(Luminosity.L.Lo.))\n",
    "\n",
    "variance_lumi"
   ]
  },
  {
   "cell_type": "code",
   "execution_count": 26,
   "id": "707e5f93-cc57-4112-8fdc-7a13b5681812",
   "metadata": {},
   "outputs": [
    {
     "data": {
      "text/html": [
       "1.06868587187738"
      ],
      "text/latex": [
       "1.06868587187738"
      ],
      "text/markdown": [
       "1.06868587187738"
      ],
      "text/plain": [
       "[1] 1.068686"
      ]
     },
     "metadata": {},
     "output_type": "display_data"
    }
   ],
   "source": [
    "variance_overall_lumi <- \n",
    "    dwarfs_lumi %>% \n",
    "    summarise(overall_var = var(Luminosity.L.Lo.)) %>% \n",
    "    pull(overall_var)\n",
    "\n",
    "variance_group_avg_lumi <- \n",
    "    variance_lumi %>%\n",
    "    summarise(group_var_avg = mean(variance)) %>%\n",
    "    pull(group_var_avg)\n",
    "\n",
    "variance_ratio_lumi <- variance_overall_lumi/variance_group_avg_lumi\n",
    "\n",
    "variance_ratio_lumi"
   ]
  },
  {
   "cell_type": "code",
   "execution_count": null,
   "id": "2d68a268-1b04-47d5-af91-59f542d0f849",
   "metadata": {},
   "outputs": [],
   "source": []
  }
 ],
 "metadata": {
  "kernelspec": {
   "display_name": "R",
   "language": "R",
   "name": "ir"
  },
  "language_info": {
   "codemirror_mode": "r",
   "file_extension": ".r",
   "mimetype": "text/x-r-source",
   "name": "R",
   "pygments_lexer": "r",
   "version": "4.1.2"
  }
 },
 "nbformat": 4,
 "nbformat_minor": 5
}
