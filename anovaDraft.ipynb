{
 "cells": [
  {
   "cell_type": "code",
   "execution_count": 10,
   "id": "52a0bee3-b80f-4c7d-8514-7f5c9401019b",
   "metadata": {},
   "outputs": [
    {
     "name": "stderr",
     "output_type": "stream",
     "text": [
      "Installing package into ‘/home/jupyter/R/x86_64-pc-linux-gnu-library/4.1’\n",
      "(as ‘lib’ is unspecified)\n",
      "\n",
      "Warning message:\n",
      "“package ‘datateachr’ is not available for this version of R\n",
      "\n",
      "A version of this package for your version of R might be available elsewhere,\n",
      "see the ideas at\n",
      "https://cran.r-project.org/doc/manuals/r-patched/R-admin.html#Installing-packages”\n"
     ]
    }
   ],
   "source": [
    "install.packages(\"datateachr\")\n",
    "library(tidyverse)\n",
    "library(infer)\n",
    "library(gridExtra)\n",
    "library(testthat)\n",
    "library(digest)\n",
    "library(broom)"
   ]
  },
  {
   "cell_type": "code",
   "execution_count": 11,
   "id": "45ee4355-51e7-4835-ba25-9a55b6eb9a5d",
   "metadata": {},
   "outputs": [
    {
     "data": {
      "text/html": [
       "<table class=\"dataframe\">\n",
       "<caption>A data.frame: 6 × 7</caption>\n",
       "<thead>\n",
       "\t<tr><th></th><th scope=col>Temperature..K.</th><th scope=col>Luminosity.L.Lo.</th><th scope=col>Radius.R.Ro.</th><th scope=col>Absolute.magnitude.Mv.</th><th scope=col>Star.type</th><th scope=col>Star.color</th><th scope=col>Spectral.Class</th></tr>\n",
       "\t<tr><th></th><th scope=col>&lt;int&gt;</th><th scope=col>&lt;dbl&gt;</th><th scope=col>&lt;dbl&gt;</th><th scope=col>&lt;dbl&gt;</th><th scope=col>&lt;int&gt;</th><th scope=col>&lt;chr&gt;</th><th scope=col>&lt;chr&gt;</th></tr>\n",
       "</thead>\n",
       "<tbody>\n",
       "\t<tr><th scope=row>1</th><td>3068</td><td>0.002400</td><td>0.1700</td><td>16.12</td><td>0</td><td>Red</td><td>M</td></tr>\n",
       "\t<tr><th scope=row>2</th><td>3042</td><td>0.000500</td><td>0.1542</td><td>16.60</td><td>0</td><td>Red</td><td>M</td></tr>\n",
       "\t<tr><th scope=row>3</th><td>2600</td><td>0.000300</td><td>0.1020</td><td>18.70</td><td>0</td><td>Red</td><td>M</td></tr>\n",
       "\t<tr><th scope=row>4</th><td>2800</td><td>0.000200</td><td>0.1600</td><td>16.65</td><td>0</td><td>Red</td><td>M</td></tr>\n",
       "\t<tr><th scope=row>5</th><td>1939</td><td>0.000138</td><td>0.1030</td><td>20.06</td><td>0</td><td>Red</td><td>M</td></tr>\n",
       "\t<tr><th scope=row>6</th><td>2840</td><td>0.000650</td><td>0.1100</td><td>16.98</td><td>0</td><td>Red</td><td>M</td></tr>\n",
       "</tbody>\n",
       "</table>\n"
      ],
      "text/latex": [
       "A data.frame: 6 × 7\n",
       "\\begin{tabular}{r|lllllll}\n",
       "  & Temperature..K. & Luminosity.L.Lo. & Radius.R.Ro. & Absolute.magnitude.Mv. & Star.type & Star.color & Spectral.Class\\\\\n",
       "  & <int> & <dbl> & <dbl> & <dbl> & <int> & <chr> & <chr>\\\\\n",
       "\\hline\n",
       "\t1 & 3068 & 0.002400 & 0.1700 & 16.12 & 0 & Red & M\\\\\n",
       "\t2 & 3042 & 0.000500 & 0.1542 & 16.60 & 0 & Red & M\\\\\n",
       "\t3 & 2600 & 0.000300 & 0.1020 & 18.70 & 0 & Red & M\\\\\n",
       "\t4 & 2800 & 0.000200 & 0.1600 & 16.65 & 0 & Red & M\\\\\n",
       "\t5 & 1939 & 0.000138 & 0.1030 & 20.06 & 0 & Red & M\\\\\n",
       "\t6 & 2840 & 0.000650 & 0.1100 & 16.98 & 0 & Red & M\\\\\n",
       "\\end{tabular}\n"
      ],
      "text/markdown": [
       "\n",
       "A data.frame: 6 × 7\n",
       "\n",
       "| <!--/--> | Temperature..K. &lt;int&gt; | Luminosity.L.Lo. &lt;dbl&gt; | Radius.R.Ro. &lt;dbl&gt; | Absolute.magnitude.Mv. &lt;dbl&gt; | Star.type &lt;int&gt; | Star.color &lt;chr&gt; | Spectral.Class &lt;chr&gt; |\n",
       "|---|---|---|---|---|---|---|---|\n",
       "| 1 | 3068 | 0.002400 | 0.1700 | 16.12 | 0 | Red | M |\n",
       "| 2 | 3042 | 0.000500 | 0.1542 | 16.60 | 0 | Red | M |\n",
       "| 3 | 2600 | 0.000300 | 0.1020 | 18.70 | 0 | Red | M |\n",
       "| 4 | 2800 | 0.000200 | 0.1600 | 16.65 | 0 | Red | M |\n",
       "| 5 | 1939 | 0.000138 | 0.1030 | 20.06 | 0 | Red | M |\n",
       "| 6 | 2840 | 0.000650 | 0.1100 | 16.98 | 0 | Red | M |\n",
       "\n"
      ],
      "text/plain": [
       "  Temperature..K. Luminosity.L.Lo. Radius.R.Ro. Absolute.magnitude.Mv.\n",
       "1 3068            0.002400         0.1700       16.12                 \n",
       "2 3042            0.000500         0.1542       16.60                 \n",
       "3 2600            0.000300         0.1020       18.70                 \n",
       "4 2800            0.000200         0.1600       16.65                 \n",
       "5 1939            0.000138         0.1030       20.06                 \n",
       "6 2840            0.000650         0.1100       16.98                 \n",
       "  Star.type Star.color Spectral.Class\n",
       "1 0         Red        M             \n",
       "2 0         Red        M             \n",
       "3 0         Red        M             \n",
       "4 0         Red        M             \n",
       "5 0         Red        M             \n",
       "6 0         Red        M             "
      ]
     },
     "metadata": {},
     "output_type": "display_data"
    }
   ],
   "source": [
    "stars <- read.csv(\"6-class.csv\")\n",
    "\n",
    "head(stars)"
   ]
  },
  {
   "cell_type": "code",
   "execution_count": 12,
   "id": "eaeee89a-2566-40b4-a3ef-1a7e77d4e6ae",
   "metadata": {},
   "outputs": [
    {
     "data": {
      "text/html": [
       "<table class=\"dataframe\">\n",
       "<caption>A data.frame: 6 × 7</caption>\n",
       "<thead>\n",
       "\t<tr><th></th><th scope=col>Temperature..K.</th><th scope=col>Luminosity.L.Lo.</th><th scope=col>Radius.R.Ro.</th><th scope=col>Absolute.magnitude.Mv.</th><th scope=col>Star.type</th><th scope=col>Star.color</th><th scope=col>Spectral.Class</th></tr>\n",
       "\t<tr><th></th><th scope=col>&lt;int&gt;</th><th scope=col>&lt;dbl&gt;</th><th scope=col>&lt;dbl&gt;</th><th scope=col>&lt;dbl&gt;</th><th scope=col>&lt;fct&gt;</th><th scope=col>&lt;chr&gt;</th><th scope=col>&lt;chr&gt;</th></tr>\n",
       "</thead>\n",
       "<tbody>\n",
       "\t<tr><th scope=row>1</th><td>3068</td><td>0.002400</td><td>0.1700</td><td>16.12</td><td>0</td><td>Red</td><td>M</td></tr>\n",
       "\t<tr><th scope=row>2</th><td>3042</td><td>0.000500</td><td>0.1542</td><td>16.60</td><td>0</td><td>Red</td><td>M</td></tr>\n",
       "\t<tr><th scope=row>3</th><td>2600</td><td>0.000300</td><td>0.1020</td><td>18.70</td><td>0</td><td>Red</td><td>M</td></tr>\n",
       "\t<tr><th scope=row>4</th><td>2800</td><td>0.000200</td><td>0.1600</td><td>16.65</td><td>0</td><td>Red</td><td>M</td></tr>\n",
       "\t<tr><th scope=row>5</th><td>1939</td><td>0.000138</td><td>0.1030</td><td>20.06</td><td>0</td><td>Red</td><td>M</td></tr>\n",
       "\t<tr><th scope=row>6</th><td>2840</td><td>0.000650</td><td>0.1100</td><td>16.98</td><td>0</td><td>Red</td><td>M</td></tr>\n",
       "</tbody>\n",
       "</table>\n"
      ],
      "text/latex": [
       "A data.frame: 6 × 7\n",
       "\\begin{tabular}{r|lllllll}\n",
       "  & Temperature..K. & Luminosity.L.Lo. & Radius.R.Ro. & Absolute.magnitude.Mv. & Star.type & Star.color & Spectral.Class\\\\\n",
       "  & <int> & <dbl> & <dbl> & <dbl> & <fct> & <chr> & <chr>\\\\\n",
       "\\hline\n",
       "\t1 & 3068 & 0.002400 & 0.1700 & 16.12 & 0 & Red & M\\\\\n",
       "\t2 & 3042 & 0.000500 & 0.1542 & 16.60 & 0 & Red & M\\\\\n",
       "\t3 & 2600 & 0.000300 & 0.1020 & 18.70 & 0 & Red & M\\\\\n",
       "\t4 & 2800 & 0.000200 & 0.1600 & 16.65 & 0 & Red & M\\\\\n",
       "\t5 & 1939 & 0.000138 & 0.1030 & 20.06 & 0 & Red & M\\\\\n",
       "\t6 & 2840 & 0.000650 & 0.1100 & 16.98 & 0 & Red & M\\\\\n",
       "\\end{tabular}\n"
      ],
      "text/markdown": [
       "\n",
       "A data.frame: 6 × 7\n",
       "\n",
       "| <!--/--> | Temperature..K. &lt;int&gt; | Luminosity.L.Lo. &lt;dbl&gt; | Radius.R.Ro. &lt;dbl&gt; | Absolute.magnitude.Mv. &lt;dbl&gt; | Star.type &lt;fct&gt; | Star.color &lt;chr&gt; | Spectral.Class &lt;chr&gt; |\n",
       "|---|---|---|---|---|---|---|---|\n",
       "| 1 | 3068 | 0.002400 | 0.1700 | 16.12 | 0 | Red | M |\n",
       "| 2 | 3042 | 0.000500 | 0.1542 | 16.60 | 0 | Red | M |\n",
       "| 3 | 2600 | 0.000300 | 0.1020 | 18.70 | 0 | Red | M |\n",
       "| 4 | 2800 | 0.000200 | 0.1600 | 16.65 | 0 | Red | M |\n",
       "| 5 | 1939 | 0.000138 | 0.1030 | 20.06 | 0 | Red | M |\n",
       "| 6 | 2840 | 0.000650 | 0.1100 | 16.98 | 0 | Red | M |\n",
       "\n"
      ],
      "text/plain": [
       "  Temperature..K. Luminosity.L.Lo. Radius.R.Ro. Absolute.magnitude.Mv.\n",
       "1 3068            0.002400         0.1700       16.12                 \n",
       "2 3042            0.000500         0.1542       16.60                 \n",
       "3 2600            0.000300         0.1020       18.70                 \n",
       "4 2800            0.000200         0.1600       16.65                 \n",
       "5 1939            0.000138         0.1030       20.06                 \n",
       "6 2840            0.000650         0.1100       16.98                 \n",
       "  Star.type Star.color Spectral.Class\n",
       "1 0         Red        M             \n",
       "2 0         Red        M             \n",
       "3 0         Red        M             \n",
       "4 0         Red        M             \n",
       "5 0         Red        M             \n",
       "6 0         Red        M             "
      ]
     },
     "metadata": {},
     "output_type": "display_data"
    }
   ],
   "source": [
    "stars <- mutate(stars, Star.type = as_factor(Star.type))\n",
    "dwarfs <- stars %>%\n",
    "filter(Star.type != 5) %>%\n",
    "filter(Star.type != 4) %>%\n",
    "filter(Star.type != 3)\n",
    "\n",
    "head(dwarfs)"
   ]
  },
  {
   "cell_type": "code",
   "execution_count": 13,
   "id": "716dbfcc-1734-4ca5-ac26-b81d294a4224",
   "metadata": {},
   "outputs": [
    {
     "data": {
      "text/html": [
       "<table class=\"dataframe\">\n",
       "<caption>A data.frame: 6 × 2</caption>\n",
       "<thead>\n",
       "\t<tr><th></th><th scope=col>Temperature..K.</th><th scope=col>Star.type</th></tr>\n",
       "\t<tr><th></th><th scope=col>&lt;int&gt;</th><th scope=col>&lt;fct&gt;</th></tr>\n",
       "</thead>\n",
       "<tbody>\n",
       "\t<tr><th scope=row>1</th><td>3068</td><td>0</td></tr>\n",
       "\t<tr><th scope=row>2</th><td>3042</td><td>0</td></tr>\n",
       "\t<tr><th scope=row>3</th><td>2600</td><td>0</td></tr>\n",
       "\t<tr><th scope=row>4</th><td>2800</td><td>0</td></tr>\n",
       "\t<tr><th scope=row>5</th><td>1939</td><td>0</td></tr>\n",
       "\t<tr><th scope=row>6</th><td>2840</td><td>0</td></tr>\n",
       "</tbody>\n",
       "</table>\n"
      ],
      "text/latex": [
       "A data.frame: 6 × 2\n",
       "\\begin{tabular}{r|ll}\n",
       "  & Temperature..K. & Star.type\\\\\n",
       "  & <int> & <fct>\\\\\n",
       "\\hline\n",
       "\t1 & 3068 & 0\\\\\n",
       "\t2 & 3042 & 0\\\\\n",
       "\t3 & 2600 & 0\\\\\n",
       "\t4 & 2800 & 0\\\\\n",
       "\t5 & 1939 & 0\\\\\n",
       "\t6 & 2840 & 0\\\\\n",
       "\\end{tabular}\n"
      ],
      "text/markdown": [
       "\n",
       "A data.frame: 6 × 2\n",
       "\n",
       "| <!--/--> | Temperature..K. &lt;int&gt; | Star.type &lt;fct&gt; |\n",
       "|---|---|---|\n",
       "| 1 | 3068 | 0 |\n",
       "| 2 | 3042 | 0 |\n",
       "| 3 | 2600 | 0 |\n",
       "| 4 | 2800 | 0 |\n",
       "| 5 | 1939 | 0 |\n",
       "| 6 | 2840 | 0 |\n",
       "\n"
      ],
      "text/plain": [
       "  Temperature..K. Star.type\n",
       "1 3068            0        \n",
       "2 3042            0        \n",
       "3 2600            0        \n",
       "4 2800            0        \n",
       "5 1939            0        \n",
       "6 2840            0        "
      ]
     },
     "metadata": {},
     "output_type": "display_data"
    }
   ],
   "source": [
    "dwarfs_temp <- dwarfs %>%\n",
    "               select(Temperature..K., Star.type)\n",
    "head(dwarfs_temp)"
   ]
  },
  {
   "cell_type": "code",
   "execution_count": 14,
   "id": "835046ed-768e-4bc8-82c1-4e356caf928a",
   "metadata": {},
   "outputs": [
    {
     "name": "stdout",
     "output_type": "stream",
     "text": [
      "\u001b[90m# A tibble: 2 × 6\u001b[39m\n",
      "  term         df       sumsq      meansq statistic   p.value\n",
      "  \u001b[3m\u001b[90m<chr>\u001b[39m\u001b[23m     \u001b[3m\u001b[90m<dbl>\u001b[39m\u001b[23m       \u001b[3m\u001b[90m<dbl>\u001b[39m\u001b[23m       \u001b[3m\u001b[90m<dbl>\u001b[39m\u001b[23m     \u001b[3m\u001b[90m<dbl>\u001b[39m\u001b[23m     \u001b[3m\u001b[90m<dbl>\u001b[39m\u001b[23m\n",
      "\u001b[90m1\u001b[39m Star.type     2 \u001b[4m3\u001b[24m106\u001b[4m6\u001b[24m\u001b[4m0\u001b[24m\u001b[4m0\u001b[24m865. \u001b[4m1\u001b[24m553\u001b[4m3\u001b[24m\u001b[4m0\u001b[24m\u001b[4m0\u001b[24m433.      188.  2.74\u001b[90me\u001b[39m\u001b[31m-37\u001b[39m\n",
      "\u001b[90m2\u001b[39m Residuals   117  965\u001b[4m6\u001b[24m\u001b[4m9\u001b[24m\u001b[4m6\u001b[24m814.    8\u001b[4m2\u001b[24m\u001b[4m5\u001b[24m\u001b[4m3\u001b[24m819.       \u001b[31mNA\u001b[39m  \u001b[31mNA\u001b[39m   \u001b[90m \u001b[39m   \n"
     ]
    }
   ],
   "source": [
    "anova_temp <- aov(Temperature..K.~Star.type, data = dwarfs_temp)%>%\n",
    "              tidy()\n",
    "print(anova_temp)"
   ]
  },
  {
   "cell_type": "code",
   "execution_count": 15,
   "id": "5e984453-f557-4f05-82db-41cca19f1828",
   "metadata": {},
   "outputs": [
    {
     "name": "stdout",
     "output_type": "stream",
     "text": [
      "[1] 188.1917\n",
      "[1] 2.738892e-37\n"
     ]
    }
   ],
   "source": [
    "f_stat_temp <- anova_temp %>%\n",
    "          filter(term == \"Star.type\") %>%\n",
    "          select(statistic) %>%\n",
    "          as.numeric()\n",
    "anova_pval_temp <- anova_temp %>%\n",
    "              filter(term == \"Star.type\") %>%\n",
    "              select(p.value) %>%\n",
    "              as.numeric()\n",
    "print(f_stat_temp)\n",
    "print(anova_pval_temp)"
   ]
  },
  {
   "cell_type": "code",
   "execution_count": 16,
   "id": "683b3180-8070-40a2-909f-d0e225b8f520",
   "metadata": {},
   "outputs": [
    {
     "data": {
      "text/html": [
       "<table class=\"dataframe\">\n",
       "<caption>A data.frame: 6 × 2</caption>\n",
       "<thead>\n",
       "\t<tr><th></th><th scope=col>Luminosity.L.Lo.</th><th scope=col>Star.type</th></tr>\n",
       "\t<tr><th></th><th scope=col>&lt;dbl&gt;</th><th scope=col>&lt;fct&gt;</th></tr>\n",
       "</thead>\n",
       "<tbody>\n",
       "\t<tr><th scope=row>1</th><td>0.002400</td><td>0</td></tr>\n",
       "\t<tr><th scope=row>2</th><td>0.000500</td><td>0</td></tr>\n",
       "\t<tr><th scope=row>3</th><td>0.000300</td><td>0</td></tr>\n",
       "\t<tr><th scope=row>4</th><td>0.000200</td><td>0</td></tr>\n",
       "\t<tr><th scope=row>5</th><td>0.000138</td><td>0</td></tr>\n",
       "\t<tr><th scope=row>6</th><td>0.000650</td><td>0</td></tr>\n",
       "</tbody>\n",
       "</table>\n"
      ],
      "text/latex": [
       "A data.frame: 6 × 2\n",
       "\\begin{tabular}{r|ll}\n",
       "  & Luminosity.L.Lo. & Star.type\\\\\n",
       "  & <dbl> & <fct>\\\\\n",
       "\\hline\n",
       "\t1 & 0.002400 & 0\\\\\n",
       "\t2 & 0.000500 & 0\\\\\n",
       "\t3 & 0.000300 & 0\\\\\n",
       "\t4 & 0.000200 & 0\\\\\n",
       "\t5 & 0.000138 & 0\\\\\n",
       "\t6 & 0.000650 & 0\\\\\n",
       "\\end{tabular}\n"
      ],
      "text/markdown": [
       "\n",
       "A data.frame: 6 × 2\n",
       "\n",
       "| <!--/--> | Luminosity.L.Lo. &lt;dbl&gt; | Star.type &lt;fct&gt; |\n",
       "|---|---|---|\n",
       "| 1 | 0.002400 | 0 |\n",
       "| 2 | 0.000500 | 0 |\n",
       "| 3 | 0.000300 | 0 |\n",
       "| 4 | 0.000200 | 0 |\n",
       "| 5 | 0.000138 | 0 |\n",
       "| 6 | 0.000650 | 0 |\n",
       "\n"
      ],
      "text/plain": [
       "  Luminosity.L.Lo. Star.type\n",
       "1 0.002400         0        \n",
       "2 0.000500         0        \n",
       "3 0.000300         0        \n",
       "4 0.000200         0        \n",
       "5 0.000138         0        \n",
       "6 0.000650         0        "
      ]
     },
     "metadata": {},
     "output_type": "display_data"
    }
   ],
   "source": [
    "dwarfs_lumi <- dwarfs %>%\n",
    "               select(Luminosity.L.Lo., Star.type)\n",
    "head(dwarfs_lumi)"
   ]
  },
  {
   "cell_type": "code",
   "execution_count": 17,
   "id": "2aa1a16e-b0cb-462a-b606-6f52a09dce0b",
   "metadata": {},
   "outputs": [
    {
     "name": "stdout",
     "output_type": "stream",
     "text": [
      "\u001b[90m# A tibble: 2 × 6\u001b[39m\n",
      "  term         df    sumsq    meansq statistic  p.value\n",
      "  \u001b[3m\u001b[90m<chr>\u001b[39m\u001b[23m     \u001b[3m\u001b[90m<dbl>\u001b[39m\u001b[23m    \u001b[3m\u001b[90m<dbl>\u001b[39m\u001b[23m     \u001b[3m\u001b[90m<dbl>\u001b[39m\u001b[23m     \u001b[3m\u001b[90m<dbl>\u001b[39m\u001b[23m    \u001b[3m\u001b[90m<dbl>\u001b[39m\u001b[23m\n",
      "\u001b[90m1\u001b[39m Star.type     2 0.000\u001b[4m4\u001b[24m\u001b[4m5\u001b[24m\u001b[4m4\u001b[24m 0.000\u001b[4m2\u001b[24m\u001b[4m2\u001b[24m\u001b[4m7\u001b[24m       5.09  0.007\u001b[4m6\u001b[24m\u001b[4m1\u001b[24m\n",
      "\u001b[90m2\u001b[39m Residuals   117 0.005\u001b[4m2\u001b[24m\u001b[4m2\u001b[24m  0.000\u001b[4m0\u001b[24m\u001b[4m4\u001b[24m\u001b[4m4\u001b[24m7     \u001b[31mNA\u001b[39m    \u001b[31mNA\u001b[39m      \n"
     ]
    }
   ],
   "source": [
    "anova_lumi <- aov(Luminosity.L.Lo.~Star.type, data = dwarfs_lumi)%>%\n",
    "              tidy()\n",
    "print(anova_lumi)"
   ]
  },
  {
   "cell_type": "code",
   "execution_count": 18,
   "id": "6e1fbc1b-e724-47d8-bb90-78d9cdbc0adc",
   "metadata": {},
   "outputs": [
    {
     "name": "stdout",
     "output_type": "stream",
     "text": [
      "[1] 5.086809\n",
      "[1] 0.007614593\n"
     ]
    }
   ],
   "source": [
    "f_stat_lumi <- anova_lumi %>%\n",
    "          filter(term == \"Star.type\") %>%\n",
    "          select(statistic) %>%\n",
    "          as.numeric()\n",
    "anova_pval_lumi <- anova_lumi%>%\n",
    "              filter(term == \"Star.type\") %>%\n",
    "              select(p.value) %>%\n",
    "              as.numeric()\n",
    "print(f_stat_lumi)\n",
    "print(anova_pval_lumi)"
   ]
  },
  {
   "cell_type": "code",
   "execution_count": null,
   "id": "bb28f27b-a5e4-49b2-8d9f-31a4c9cfc890",
   "metadata": {},
   "outputs": [],
   "source": []
  },
  {
   "cell_type": "code",
   "execution_count": null,
   "id": "e6ee994e-1b5b-47f8-9ad7-b92ae843f6b3",
   "metadata": {},
   "outputs": [],
   "source": []
  }
 ],
 "metadata": {
  "kernelspec": {
   "display_name": "R",
   "language": "R",
   "name": "ir"
  },
  "language_info": {
   "codemirror_mode": "r",
   "file_extension": ".r",
   "mimetype": "text/x-r-source",
   "name": "R",
   "pygments_lexer": "r",
   "version": "4.1.2"
  }
 },
 "nbformat": 4,
 "nbformat_minor": 5
}
